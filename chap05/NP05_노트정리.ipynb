{
 "cells": [
  {
   "cell_type": "markdown",
   "metadata": {},
   "source": [
    "## 5장 노트정리\n",
    "\n",
    "이파일은 5장 학습하면서 실행한 내용을 정리한 것이다.\n",
    "\n",
    "날짜 : 2025.09.17\n",
    "\n",
    "저자: 김아영 학번: 202311394"
   ]
  },
  {
   "cell_type": "markdown",
   "metadata": {},
   "source": [
    "# 함수란?\n",
    "\n",
    "    • 이름을 붙여 반복적으로 사용할 수 있는 프로그램 부분\n",
    "\n",
    "# 함수를 사용하는 이유\n",
    "\n",
    "    • 프로그램 안에서 중복된 코드를 제거한다.\n",
    "\n",
    "    • 복잡한 프로그래밍 작업을 더 간단한 작업들로 분해할 수 있다\n",
    "\n",
    "    • 함수는 한번 만들어지면 다른 프로그램에서도 재사용될 수 있다.\n",
    "\n",
    "    • 함수를 사용하면 가독성(프로그램의 이해)이 증대되고, 유지 관리도 쉬워진다.\n",
    "     \n",
    "#  파이썬의 함수는 일급 함수이다. 함수를 변수처럼 사용\n",
    "    \n",
    "    • 변수에 할당: a = func\n",
    "    \n",
    "    • 다른 함수의 인자로 전달 가능: func1(func)\n",
    "    \n",
    "    • return 문으로 반환 가능: return func\n",
    "\n",
    "# 함수의 종류\n",
    "    \n",
    "    • 내장 함수\n",
    "    \n",
    "    • 사용자 정의 함수"
   ]
  },
  {
   "cell_type": "code",
   "execution_count": 1,
   "metadata": {},
   "outputs": [
    {
     "name": "stdout",
     "output_type": "stream",
     "text": [
      "Hello,  john\n"
     ]
    }
   ],
   "source": [
    "# 사용자 정의 함수의 작성\n",
    "# 함수의 정의와 호출 예\n",
    "def welcome(name):\n",
    "    print(\"Hello, \", name)\n",
    "    \n",
    "welcome('john')"
   ]
  },
  {
   "cell_type": "code",
   "execution_count": 2,
   "metadata": {},
   "outputs": [
    {
     "name": "stdout",
     "output_type": "stream",
     "text": [
      "Wecome to Python\n"
     ]
    }
   ],
   "source": [
    "# 반환 갑이 없는 함수\n",
    "def prtStr(str):\n",
    "    print(\"%s\" %str)\n",
    "    return \n",
    "str = \"Wecome to Python\"\n",
    "prtStr(str)"
   ]
  },
  {
   "cell_type": "code",
   "execution_count": 3,
   "metadata": {},
   "outputs": [
    {
     "name": "stdout",
     "output_type": "stream",
     "text": [
      "한변의 길이가 5인 정사각형의 넓이는 25\n",
      "한변의 길이가 7인 정사각형의 넓이는 49\n"
     ]
    }
   ],
   "source": [
    "#값을 반환하는 함수\n",
    "def squareArea(s) :\n",
    "    area = s * s\n",
    "    return area # area 값이 반환되고 종료\n",
    "a = squareArea(5) # 5를 인자(argument)라 함. 반환 값이 a에 저장\n",
    "b = squareArea(7)\n",
    "print(\"한변의 길이가 %d인 정사각형의 넓이는 %d\" %(5, a))\n",
    "print(\"한변의 길이가 %d인 정사각형의 넓이는 %d\" %(7, b))"
   ]
  },
  {
   "cell_type": "code",
   "execution_count": 6,
   "metadata": {},
   "outputs": [
    {
     "name": "stdout",
     "output_type": "stream",
     "text": [
      "1275\n",
      "500500\n"
     ]
    }
   ],
   "source": [
    "#1~n까지의 합을 계산하는 함수\n",
    "def sum(n): #매개변수 n을 전달받는다\n",
    "    hab = 0\n",
    "    for i in range(1, n+1): #1~n까지 반복\n",
    "        hab = hab + i #합에 새로운 수를 더한다\n",
    "    return hab #반환값=hab\n",
    "    \n",
    "a = sum(50) #함수를 호출하여(인자=50) 1부터 50까지의 합을 계산\n",
    "b = sum(1000) #함수를 호출하여(인자=50) 1부터 1000까지의 합\n",
    "print(a)\n",
    "print(b)"
   ]
  },
  {
   "cell_type": "markdown",
   "metadata": {},
   "source": [
    "# 함수와 변수\n",
    "지역변수와 전역변수\n",
    "\n",
    "지역 변수: 함수 내에서만 값이 유효\n",
    "\n",
    "전역 변수: 프로그램 전체에서 값이 유효\n",
    "\n"
   ]
  },
  {
   "cell_type": "code",
   "execution_count": 9,
   "metadata": {},
   "outputs": [
    {
     "name": "stdout",
     "output_type": "stream",
     "text": [
      "func1()의 v = 10\n",
      "func2()의 변경된 전역 v = 30\n",
      "30\n"
     ]
    }
   ],
   "source": [
    "# 전역 변수의 선언\n",
    "# 함수 선언부\n",
    "def func1() :\n",
    "    v = 10 #함수 func1()안의 지역 변수\n",
    "    print(\"func1()의 v = %d\" % v)\n",
    "    \n",
    "def func2() :\n",
    "    global v #v를 전역 변수로 선언\n",
    "    v = 30\n",
    "    print(\"func2()의 변경된 전역 v = %d\" % v)\n",
    "    \n",
    "v = 20 #함수 밖에서 정의 되었으므로 전역 변수\n",
    "# 메인 코드 부분\n",
    "func1() #10을 출력\n",
    "func2() #30을 출력\n",
    "print(v) #30을 출력. 전역변수 v가 변경됨"
   ]
  },
  {
   "cell_type": "code",
   "execution_count": 10,
   "metadata": {},
   "outputs": [
    {
     "name": "stdout",
     "output_type": "stream",
     "text": [
      "default\n",
      "Hi! Hi! Hi! Hi! Hi! \n",
      "Hi!  Abe, Nothing new?\n",
      "Hi!  Bob, Good morning!\n"
     ]
    }
   ],
   "source": [
    "# 함수 매개변수의 전달\n",
    "# 매개변수의 기본값 지정(기본 매개변수)\n",
    "def prtMesg(message, count=1): #count의 기본값이 1로 지정\n",
    "    print (message * count)\n",
    "prtMesg('default') #message='default'. count는 기본값 사용\n",
    "prtMesg('Hi! ', 5) #message와 count 인자 전달\n",
    "\n",
    "def greet(name, msg=\"Nothing new?\"):\n",
    "    print(\"Hi! \", name + ', ' + msg)\n",
    "greet(\"Abe\") #name 만 전달\n",
    "greet(\"Bob\", \"Good morning!\") #name과 msg 전달"
   ]
  },
  {
   "cell_type": "code",
   "execution_count": 12,
   "metadata": {},
   "outputs": [
    {
     "name": "stdout",
     "output_type": "stream",
     "text": [
      "6\n",
      "15\n",
      "Kennedy : 35-th president\n",
      "Obama : 44-th president\n",
      "Trump : 45-th president\n"
     ]
    }
   ],
   "source": [
    "#가변 매개변수 - 매개변수의 개수가 가변일 때\n",
    "#매개변수가 *arg로 표시되면 튜플로 처리\n",
    "def total(*numbers):\n",
    "    sum = 0\n",
    "    for n in numbers: #전달 받은 매개변수를 튜플로 처리\n",
    "        sum += n\n",
    "    return sum\n",
    "print (total(1,2,3)) #3개의 인자\n",
    "print (total(1,2,3,4,5)) #5개의 인자\n",
    "\n",
    "# 매개변수가 **keywords로 표시되면 딕셔너리로 처리\n",
    "def dicPresident(**keywords):\n",
    "    for i in keywords.keys(): #딕셔너리 key를 하나씩 처리\n",
    "        print(\"%s : %d-th president\" %(i, keywords[i]))\n",
    "dicPresident(Kennedy=35, Obama=44, Trump=45) #(key=value)로 전달"
   ]
  },
  {
   "cell_type": "code",
   "execution_count": 13,
   "metadata": {},
   "outputs": [
    {
     "name": "stdout",
     "output_type": "stream",
     "text": [
      "a= 4 b= 5 c= 3\n",
      "12\n",
      "a= 5 b= 2 c= 7\n",
      "14\n"
     ]
    }
   ],
   "source": [
    "#키워드를 이용한 매개변수 전달\n",
    "# 매개변수의 위치가 아니라 키워드를 이용하여 매개변수 전달\n",
    "def func(a, b=2, c=3): #a: 위치 매개변수, b, c: 키워드 매개변수\n",
    "    print('a=', a, 'b=', b, 'c=', c)\n",
    "    return a + b + c\n",
    "print(func(4, 5)) #인자 위치에 의해 a=4, b=5로 전달\n",
    "print(func(5, c=7)) #키워드 c를 이용한 전달. a=5, c=7, b는 기본값"
   ]
  },
  {
   "cell_type": "markdown",
   "metadata": {},
   "source": [
    "# 람다 함수\n",
    "이름이 없는 한 줄짜리 함수\n",
    "\n",
    "lambda parameters: expr lambda 함수의 정의\n",
    "\n",
    "parameters는 매개변수, expr는 결과가 return되는 수식\n",
    "\n",
    "lambda x, y: x + y 매개변수 x, y를 전달받아 x + y를 리턴\n"
   ]
  },
  {
   "cell_type": "markdown",
   "metadata": {},
   "source": [
    "# 재귀 함수\n",
    "함수 내에서 자기 자신을 호출하는 함수\n",
    "\n",
    "같은 동작을 반복할 때 재귀 함수 사용\n",
    "\n",
    "함수가 종료되는 조건을 반드시 포함해야 한다\n",
    "\n",
    "factorial(n!)을 구하는 재귀 함수"
   ]
  },
  {
   "cell_type": "code",
   "execution_count": 14,
   "metadata": {},
   "outputs": [
    {
     "name": "stdout",
     "output_type": "stream",
     "text": [
      "120\n"
     ]
    }
   ],
   "source": [
    "# 재귀 함수\n",
    "def fact(n):\n",
    " if n==1: #재귀 함수 종료 조건. n=0이면 종료\n",
    "    return 1\n",
    " else:\n",
    "    return n*fact(n-1) # n! = n x (n-1)!\n",
    "print(fact(5))"
   ]
  },
  {
   "cell_type": "code",
   "execution_count": 15,
   "metadata": {},
   "outputs": [
    {
     "data": {
      "text/plain": [
       "7"
      ]
     },
     "execution_count": 15,
     "metadata": {},
     "output_type": "execute_result"
    }
   ],
   "source": [
    "# eval\n",
    "eval('1+2*3')"
   ]
  },
  {
   "cell_type": "code",
   "execution_count": 21,
   "metadata": {},
   "outputs": [
    {
     "data": {
      "text/plain": [
       "123"
      ]
     },
     "execution_count": 21,
     "metadata": {},
     "output_type": "execute_result"
    }
   ],
   "source": [
    "#int <->bin, oct, hex\n",
    "int('123')"
   ]
  },
  {
   "cell_type": "code",
   "execution_count": 20,
   "metadata": {},
   "outputs": [
    {
     "data": {
      "text/plain": [
       "10"
      ]
     },
     "execution_count": 20,
     "metadata": {},
     "output_type": "execute_result"
    }
   ],
   "source": [
    "#int <->bin, oct, hex\n",
    "int('1010', 2) #'1010'을 2진수로 이해"
   ]
  },
  {
   "cell_type": "code",
   "execution_count": 22,
   "metadata": {},
   "outputs": [
    {
     "data": {
      "text/plain": [
       "['this', 'test']"
      ]
     },
     "execution_count": 22,
     "metadata": {},
     "output_type": "execute_result"
    }
   ],
   "source": [
    "#filter\n",
    "list(filter(lambda x: len(x)>2, ['this', 'is', 'a', 'test']))"
   ]
  },
  {
   "cell_type": "code",
   "execution_count": 23,
   "metadata": {},
   "outputs": [
    {
     "name": "stdout",
     "output_type": "stream",
     "text": [
      "<map object at 0x00000228A351B760>\n"
     ]
    }
   ],
   "source": [
    "#map\n",
    "def Squares(n):\n",
    "    return n**2\n",
    "numbers = [1,3,5,9]\n",
    "#Squares 함수에 numbers 요소를 하나씩 대입\n",
    "print(map(Squares, numbers))"
   ]
  },
  {
   "cell_type": "markdown",
   "metadata": {},
   "source": [
    "# ord (반대: chr)\n",
    "\n",
    "• ord(ch) – ordinal 의 약자 (순서가 있는 정수값)\n",
    "\n",
    "• Ch에 대한 ASCII 코드 반환 (유니코드 문자 )\n",
    "\n",
    "• ord('A') → 65\n",
    "\n",
    "• hex(ord(“한”)) → 0xd55c\n",
    "\n",
    "# repr\n",
    "\n",
    "• repr(obj) (유니코드 문자도 가능)\n",
    "\n",
    "• obj를 문자열로 변환\n",
    "\n",
    "• repr(b'0011') → \"b'0011’”\n",
    "\n"
   ]
  },
  {
   "cell_type": "code",
   "execution_count": 24,
   "metadata": {},
   "outputs": [
    {
     "data": {
      "text/plain": [
       "12.3"
      ]
     },
     "execution_count": 24,
     "metadata": {},
     "output_type": "execute_result"
    }
   ],
   "source": [
    "#round\n",
    "\n",
    "round(12.345, 1)\n"
   ]
  },
  {
   "cell_type": "code",
   "execution_count": 26,
   "metadata": {},
   "outputs": [
    {
     "data": {
      "text/plain": [
       "12.35"
      ]
     },
     "execution_count": 26,
     "metadata": {},
     "output_type": "execute_result"
    }
   ],
   "source": [
    "#round \n",
    "round(12.345, 2)"
   ]
  },
  {
   "cell_type": "code",
   "execution_count": 30,
   "metadata": {},
   "outputs": [],
   "source": [
    "# 변수의 타입 함수의 반환 타입\n",
    "# 동적 변수 타입 함수의 반환 타입이 기본\n",
    "def add(a, b):\n",
    "    return a + b\n",
    "def greet(name):\n",
    "    return f\"Hello, {name}!\"\n",
    "def get_list():\n",
    "    return [1, 2, 3]"
   ]
  },
  {
   "cell_type": "code",
   "execution_count": 31,
   "metadata": {},
   "outputs": [],
   "source": [
    "# 명시적 변수 타입 함수의 반환 타입이 구분\n",
    "def add(a: int, b: int) -> int:\n",
    "    return a + b\n",
    "def greet(name: str) -> str:\n",
    "    return f\"Hello, {name}!\"\n",
    "def get_list() -> list:\n",
    "    return [1, 2, 3]"
   ]
  },
  {
   "cell_type": "code",
   "execution_count": null,
   "metadata": {},
   "outputs": [],
   "source": []
  }
 ],
 "metadata": {
  "kernelspec": {
   "display_name": "Python 3",
   "language": "python",
   "name": "python3"
  },
  "language_info": {
   "codemirror_mode": {
    "name": "ipython",
    "version": 3
   },
   "file_extension": ".py",
   "mimetype": "text/x-python",
   "name": "python",
   "nbconvert_exporter": "python",
   "pygments_lexer": "ipython3",
   "version": "3.13.7"
  }
 },
 "nbformat": 4,
 "nbformat_minor": 2
}
