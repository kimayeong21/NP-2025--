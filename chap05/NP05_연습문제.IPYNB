{
 "cells": [
  {
   "cell_type": "markdown",
   "metadata": {},
   "source": [
    "## 5장 연습문제\n",
    "\n",
    "이파일은 5장 학습하면서 실행한 내용을 정리한 것이다.\n",
    "\n",
    "날짜 : 2025.09.17\n",
    "\n",
    "저자: 김아영 학번: 202311394"
   ]
  },
  {
   "cell_type": "code",
   "execution_count": 1,
   "metadata": {},
   "outputs": [
    {
     "name": "stdout",
     "output_type": "stream",
     "text": [
      "****\n",
      "****\n"
     ]
    }
   ],
   "source": [
    "# 두 개의 매개변수 n, m을 받아 m x n개의 * 상자 출력\n",
    "def print_box(m, n):\n",
    "    for _ in range(m):\n",
    "        print(\"*\" * n)\n",
    "\n",
    "# 실행 예시\n",
    "print_box(2, 4)\n"
   ]
  },
  {
   "cell_type": "code",
   "execution_count": 2,
   "metadata": {},
   "outputs": [
    {
     "name": "stdout",
     "output_type": "stream",
     "text": [
      "6\n"
     ]
    }
   ],
   "source": [
    "# 숫자의 자리 합 구하는 함수\n",
    "def digit_sum(num):\n",
    "    return sum(int(d) for d in str(num))\n",
    "\n",
    "# 실행 예시\n",
    "print(digit_sum(123))  # 6\n"
   ]
  },
  {
   "cell_type": "code",
   "execution_count": 3,
   "metadata": {},
   "outputs": [
    {
     "name": "stdout",
     "output_type": "stream",
     "text": [
      "2\n",
      "-1\n"
     ]
    }
   ],
   "source": [
    "# 두 개의 문자열이 처음으로 다른 위치 반환\n",
    "def compare_str(s1, s2):\n",
    "    if s1 == s2:\n",
    "        return -1\n",
    "    min_len = min(len(s1), len(s2))\n",
    "    for i in range(min_len):\n",
    "        if s1[i] != s2[i]:\n",
    "            return i\n",
    "    return min_len\n",
    "\n",
    "# 실행 예시\n",
    "print(compare_str(\"apple\", \"apricot\"))  # 2\n",
    "print(compare_str(\"hello\", \"hello\"))    # -1\n"
   ]
  },
  {
   "cell_type": "code",
   "execution_count": 4,
   "metadata": {},
   "outputs": [
    {
     "name": "stdout",
     "output_type": "stream",
     "text": [
      "[1, 2, 3, 4, 6, 12]\n"
     ]
    }
   ],
   "source": [
    "# 숫자의 약수 리스트 반환\n",
    "def divisors(num):\n",
    "    return [i for i in range(1, num+1) if num % i == 0]\n",
    "\n",
    "# 실행 예시\n",
    "print(divisors(12))  # [1, 2, 3, 4, 6, 12]\n"
   ]
  },
  {
   "cell_type": "code",
   "execution_count": 6,
   "metadata": {},
   "outputs": [
    {
     "name": "stdout",
     "output_type": "stream",
     "text": [
      "[1, 3, 5]\n"
     ]
    }
   ],
   "source": [
    "# 문자열에서 특정 문자의 위치 모두 반환\n",
    "def find_indexes(s, ch):\n",
    "    return [i for i, c in enumerate(s) if c == ch]\n",
    "\n",
    "# 실행 예시\n",
    "print(find_indexes(\"banana\", \"a\"))  # [1, 3, 5]\n"
   ]
  },
  {
   "cell_type": "code",
   "execution_count": 7,
   "metadata": {},
   "outputs": [
    {
     "name": "stdout",
     "output_type": "stream",
     "text": [
      "5050\n"
     ]
    }
   ],
   "source": [
    "# 재귀 함수를 이용해 1부터 100까지 합 계산\n",
    "def rec_sum(n):\n",
    "    if n == 1:\n",
    "        return 1\n",
    "    return n + rec_sum(n-1)\n",
    "\n",
    "# 실행 예시\n",
    "print(rec_sum(100))  # 5050\n"
   ]
  }
 ],
 "metadata": {
  "kernelspec": {
   "display_name": "Python 3",
   "language": "python",
   "name": "python3"
  },
  "language_info": {
   "codemirror_mode": {
    "name": "ipython",
    "version": 3
   },
   "file_extension": ".py",
   "mimetype": "text/x-python",
   "name": "python",
   "nbconvert_exporter": "python",
   "pygments_lexer": "ipython3",
   "version": "3.13.7"
  }
 },
 "nbformat": 4,
 "nbformat_minor": 2
}
