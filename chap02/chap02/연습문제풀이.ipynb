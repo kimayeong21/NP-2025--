{
 "cells": [
  {
   "cell_type": "markdown",
   "metadata": {},
   "source": [
    "## 2장 연습문제\n",
    "\n",
    "이파일은 2장 학습하면서 연습문제를 실행한 내용을 풀이한 내용입니다.\n",
    "\n",
    "날짜 : 2025.09.09\n",
    "\n",
    "저자: 김아영"
   ]
  },
  {
   "cell_type": "code",
   "execution_count": 6,
   "metadata": {},
   "outputs": [
    {
     "name": "stdout",
     "output_type": "stream",
     "text": [
      "두 수의 곱 = 30.0\n"
     ]
    }
   ],
   "source": [
    "#연습문제 1 \n",
    "# 1. 두 실수 입력받기\n",
    "a = float(input(\"첫 번째 실수를 입력하세요: \"))\n",
    "b = float(input(\"두 번째 실수를 입력하세요: \"))\n",
    "\n",
    "result = a * b\n",
    "print(\"두 수의 곱 =\", result)"
   ]
  },
  {
   "cell_type": "code",
   "execution_count": 7,
   "metadata": {},
   "outputs": [
    {
     "name": "stdout",
     "output_type": "stream",
     "text": [
      "6: False\n"
     ]
    }
   ],
   "source": [
    "#산술 및 관계 연산자 연습문제\n",
    "# 6. 입력된 정수가 10보다 크고 20보다 작은지 검사\n",
    "n = int(input(\"정수 입력 (예: 15): \"))\n",
    "print(\"6:\", 10 < n < 20)"
   ]
  },
  {
   "cell_type": "code",
   "execution_count": null,
   "metadata": {},
   "outputs": [
    {
     "name": "stdout",
     "output_type": "stream",
     "text": [
      "3: False\n"
     ]
    }
   ],
   "source": [
    "#논리 연산자 연습문제\n",
    "# 3. 변수 y가 5의 배수이거나 7의 배수인지\n",
    "y = int(input(\"y 입력: \"))\n",
    "print(\"3:\", y % 5 == 0 or y % 7 == 0)\n"
   ]
  },
  {
   "cell_type": "code",
   "execution_count": null,
   "metadata": {},
   "outputs": [
    {
     "name": "stdout",
     "output_type": "stream",
     "text": [
      "1: False\n"
     ]
    }
   ],
   "source": [
    "#멤버 연산자 연습문제\n",
    "# 1. 숫자 7이 리스트 [1,2,3,4,5]에 있는지\n",
    "print(\"1:\", 7 in [1, 2, 3, 4, 5])"
   ]
  },
  {
   "cell_type": "code",
   "execution_count": null,
   "metadata": {},
   "outputs": [
    {
     "name": "stdout",
     "output_type": "stream",
     "text": [
      "2: 0일 0시간 30분\n"
     ]
    }
   ],
   "source": [
    "#연습문제2\n",
    "# 2. 분(min)을 입력받아 일, 시간, 분으로 변환\n",
    "minutes = int(input(\"분 입력: \"))\n",
    "days = minutes // (24*60)\n",
    "hours = (minutes % (24*60)) // 60\n",
    "mins = minutes % 60\n",
    "print(f\"2: {days}일 {hours}시간 {mins}분\")"
   ]
  },
  {
   "cell_type": "code",
   "execution_count": null,
   "metadata": {},
   "outputs": [],
   "source": []
  }
 ],
 "metadata": {
  "kernelspec": {
   "display_name": "Python 3",
   "language": "python",
   "name": "python3"
  },
  "language_info": {
   "codemirror_mode": {
    "name": "ipython",
    "version": 3
   },
   "file_extension": ".py",
   "mimetype": "text/x-python",
   "name": "python",
   "nbconvert_exporter": "python",
   "pygments_lexer": "ipython3",
   "version": "3.13.7"
  }
 },
 "nbformat": 4,
 "nbformat_minor": 2
}
