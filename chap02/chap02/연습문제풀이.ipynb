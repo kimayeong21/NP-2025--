{
 "cells": [
  {
   "cell_type": "markdown",
   "metadata": {},
   "source": [
    "## 2장 연습문제\n",
    "\n",
    "이파일은 2장 학습하면서 연습문제를 실행한 내용을 풀이한 내용입니다.\n",
    "\n",
    "날짜 : 2025.09.09\n",
    "\n",
    "저자: 김아영 학번: 202311394"
   ]
  },
  {
   "cell_type": "code",
   "execution_count": null,
   "metadata": {},
   "outputs": [
    {
     "name": "stdout",
     "output_type": "stream",
     "text": [
      "두 수의 곱 = 30.0\n"
     ]
    }
   ],
   "source": [
    "#연습문제 1 두 실수를 입력받아 곱한 결과 출력\n",
    "# 1. 두 실수를 입력받아 곱한 결과 출력\n",
    "a = float(input(\"첫 번째 실수를 입력하세요: \"))\n",
    "b = float(input(\"두 번째 실수를 입력하세요: \"))\n",
    "\n",
    "result = a * b\n",
    "print(\"두 수의 곱 =\", result)"
   ]
  },
  {
   "cell_type": "code",
   "execution_count": 2,
   "metadata": {},
   "outputs": [
    {
     "name": "stdout",
     "output_type": "stream",
     "text": [
      "5 마일은 8.045 km 입니다.\n"
     ]
    }
   ],
   "source": [
    "#연습문제 1\n",
    "# 2. 1마일은 1.609km이다 키보드에서 마일(정수)을 입력받아 km로 변환해 출력\n",
    "# 1마일 = 1.609 km\n",
    "mile = int(input(\"마일을 입력하세요: \"))\n",
    "km = mile * 1.609\n",
    "print(f\"{mile} 마일은 {km:.3f} km 입니다.\")\n"
   ]
  },
  {
   "cell_type": "code",
   "execution_count": 3,
   "metadata": {},
   "outputs": [
    {
     "name": "stdout",
     "output_type": "stream",
     "text": [
      "원의 둘레 = 19.729\n",
      "원의 면적 = 30.975\n"
     ]
    }
   ],
   "source": [
    "#연습문제1\n",
    "# 3. 원의 반지름을 입력 받아 원의 둘레와 원의 면적을 출력하기\n",
    "import math\n",
    "\n",
    "r = float(input(\"원의 반지름을 입력하세요: \"))\n",
    "\n",
    "circumference = 2 * math.pi * r   # 둘레\n",
    "area = math.pi * r * r            # 면적\n",
    "\n",
    "print(f\"원의 둘레 = {circumference:.3f}\")\n",
    "print(f\"원의 면적 = {area:.3f}\")\n"
   ]
  },
  {
   "cell_type": "code",
   "execution_count": 4,
   "metadata": {},
   "outputs": [
    {
     "name": "stdout",
     "output_type": "stream",
     "text": [
      "1: 8\n"
     ]
    }
   ],
   "source": [
    "#산술 및 관계 연산자 연습문제\n",
    "# 1. 5와 3을 더한 값 출력\n",
    "print(\"1:\", 5 + 3)"
   ]
  },
  {
   "cell_type": "code",
   "execution_count": null,
   "metadata": {},
   "outputs": [
    {
     "name": "stdout",
     "output_type": "stream",
     "text": [
      "2: 4\n"
     ]
    }
   ],
   "source": [
    "#산술 및 관계 연산자 연습문제\n",
    "# 2. 7에서 3을 뺀 값 출력\n",
    "print(\"2:\", 7 - 3)"
   ]
  },
  {
   "cell_type": "code",
   "execution_count": 6,
   "metadata": {},
   "outputs": [
    {
     "name": "stdout",
     "output_type": "stream",
     "text": [
      "3: 2.0\n"
     ]
    }
   ],
   "source": [
    "#산술 및 관계 연산자 연습문제\n",
    "# 3. 4를 2로 나눈 값 출력\n",
    "print(\"3:\", 4 / 2)"
   ]
  },
  {
   "cell_type": "code",
   "execution_count": null,
   "metadata": {},
   "outputs": [
    {
     "name": "stdout",
     "output_type": "stream",
     "text": [
      "4: 몫 = 2 , 나머지 = 2\n"
     ]
    }
   ],
   "source": [
    "#산술 및 관계 연산자 연습문제\n",
    "# 4. 8을 3으로 나눈 몫과 나머지 출력\n",
    "print(\"4: 몫 =\", 8 // 3, \", 나머지 =\", 8 % 3)"
   ]
  },
  {
   "cell_type": "code",
   "execution_count": 8,
   "metadata": {},
   "outputs": [
    {
     "name": "stdout",
     "output_type": "stream",
     "text": [
      "5: 32\n"
     ]
    }
   ],
   "source": [
    "#산술 및 관계 연산자 연습문제\n",
    "# 5. 2의 5제곱 출력\n",
    "print(\"5:\", 2 ** 5)"
   ]
  },
  {
   "cell_type": "code",
   "execution_count": 7,
   "metadata": {},
   "outputs": [
    {
     "name": "stdout",
     "output_type": "stream",
     "text": [
      "6: False\n"
     ]
    }
   ],
   "source": [
    "#산술 및 관계 연산자 연습문제\n",
    "# 6. 입력된 정수가 10보다 크고 20보다 작은지 검사\n",
    "n = int(input(\"정수 입력 (예: 15): \"))\n",
    "print(\"6:\", 10 < n < 20)"
   ]
  },
  {
   "cell_type": "code",
   "execution_count": 9,
   "metadata": {},
   "outputs": [
    {
     "name": "stdout",
     "output_type": "stream",
     "text": [
      "8: False\n"
     ]
    }
   ],
   "source": [
    "#산술 및 관계 연산자 연습문제\n",
    "# 8. 7을 2로 나눈 결과가 3보다 작은지 검사\n",
    "print(\"8:\", (7 / 2) < 3)"
   ]
  },
  {
   "cell_type": "code",
   "execution_count": 10,
   "metadata": {},
   "outputs": [
    {
     "name": "stdout",
     "output_type": "stream",
     "text": [
      "9: True\n"
     ]
    }
   ],
   "source": [
    "#산술 및 관계 연산자 연습문제\n",
    "# 9. 변수 x의 값이 5와 같지 않은지 검사\n",
    "x = int(input(\"x 입력: \"))\n",
    "print(\"9:\", x != 5)"
   ]
  },
  {
   "cell_type": "code",
   "execution_count": 11,
   "metadata": {},
   "outputs": [
    {
     "name": "stdout",
     "output_type": "stream",
     "text": [
      "10: False\n"
     ]
    }
   ],
   "source": [
    "#산술 및 관계 연산자 연습문제\n",
    "\n",
    "# 10. 변수 y의 값이 10에서 20 사이인지 검사\n",
    "y = int(input(\"y 입력: \"))\n",
    "print(\"10:\", 10 <= y <= 20)"
   ]
  },
  {
   "cell_type": "code",
   "execution_count": 12,
   "metadata": {},
   "outputs": [
    {
     "name": "stdout",
     "output_type": "stream",
     "text": [
      "1: True\n"
     ]
    }
   ],
   "source": [
    "#논리 연산자 연습문제\n",
    "# 1. 5가 3보다 크고 7보다 작은지\n",
    "print(\"1:\", 5 > 3 and 5 < 7)"
   ]
  },
  {
   "cell_type": "code",
   "execution_count": 13,
   "metadata": {},
   "outputs": [
    {
     "name": "stdout",
     "output_type": "stream",
     "text": [
      "2: True\n"
     ]
    }
   ],
   "source": [
    "#논리 연산자 연습문제\n",
    "# 2. 변수 x가 10 이상이고 20 이하인지\n",
    "x = int(input(\"x 입력: \"))\n",
    "print(\"2:\", 10 <= x <= 20)"
   ]
  },
  {
   "cell_type": "code",
   "execution_count": null,
   "metadata": {},
   "outputs": [
    {
     "name": "stdout",
     "output_type": "stream",
     "text": [
      "3: False\n"
     ]
    }
   ],
   "source": [
    "#논리 연산자 연습문제\n",
    "# 3. 변수 y가 5의 배수이거나 7의 배수인지\n",
    "y = int(input(\"y 입력: \"))\n",
    "print(\"3:\", y % 5 == 0 or y % 7 == 0)\n"
   ]
  },
  {
   "cell_type": "code",
   "execution_count": 14,
   "metadata": {},
   "outputs": [
    {
     "name": "stdout",
     "output_type": "stream",
     "text": [
      "4: False\n"
     ]
    }
   ],
   "source": [
    "#논리 연산자 연습문제\n",
    "# 4. 변수 z가 양수이면서 짝수인지\n",
    "z = int(input(\"z 입력: \"))\n",
    "print(\"4:\", z > 0 and z % 2 == 0)"
   ]
  },
  {
   "cell_type": "code",
   "execution_count": 15,
   "metadata": {},
   "outputs": [
    {
     "name": "stdout",
     "output_type": "stream",
     "text": [
      "5: False\n"
     ]
    }
   ],
   "source": [
    "#논리 연산자 연습문제\n",
    "# 5. 변수 a가 \"hello\" 또는 \"world\" 인지\n",
    "a = input(\"a 입력: \")\n",
    "print(\"5:\", a in [\"hello\", \"world\"])"
   ]
  },
  {
   "cell_type": "code",
   "execution_count": 24,
   "metadata": {},
   "outputs": [
    {
     "name": "stdout",
     "output_type": "stream",
     "text": [
      "1: False\n"
     ]
    }
   ],
   "source": [
    "#멤버 연산자 연습문제\n",
    "# 1. 숫자 7이 리스트 [1,2,3,4,5]에 있는지\n",
    "print(\"1:\", 7 in [1, 2, 3, 4, 5])"
   ]
  },
  {
   "cell_type": "code",
   "execution_count": 16,
   "metadata": {},
   "outputs": [
    {
     "name": "stdout",
     "output_type": "stream",
     "text": [
      "2: False\n"
     ]
    }
   ],
   "source": [
    "#멤버 연산자 연습문제\n",
    "# 2. \"apple\"이 세트 {\"orange\",\"banana\",\"kiwi\"}에 있는지\n",
    "print(\"2:\", \"apple\" in {\"orange\", \"banana\", \"kiwi\"})"
   ]
  },
  {
   "cell_type": "code",
   "execution_count": 17,
   "metadata": {},
   "outputs": [
    {
     "name": "stdout",
     "output_type": "stream",
     "text": [
      "3: False\n"
     ]
    }
   ],
   "source": [
    "#멤버 연산자 연습문제\n",
    "# 3. 숫자 6이 딕셔너리 {\"a\":1,\"b\":2,\"c\":3,\"d\":4}의 값인지\n",
    "print(\"3:\", 6 in {\"a\":1, \"b\":2, \"c\":3, \"d\":4}.values())"
   ]
  },
  {
   "cell_type": "code",
   "execution_count": 18,
   "metadata": {},
   "outputs": [
    {
     "name": "stdout",
     "output_type": "stream",
     "text": [
      "4: True\n"
     ]
    }
   ],
   "source": [
    "#멤버 연산자 연습문제\n",
    "# 4. \"cat\"이 튜플 (\"dog\",\"cat\",\"bird\",\"hamster\")에 있는지\n",
    "print(\"4:\", \"cat\" in (\"dog\",\"cat\",\"bird\",\"hamster\"))"
   ]
  },
  {
   "cell_type": "code",
   "execution_count": 19,
   "metadata": {},
   "outputs": [
    {
     "name": "stdout",
     "output_type": "stream",
     "text": [
      "5: False\n"
     ]
    }
   ],
   "source": [
    "#멤버 연산자 연습문제\n",
    "# 5. 숫자 100이 세트 {2,4,6,8,10}에 있는지\n",
    "print(\"5:\", 100 in {2,4,6,8,10})"
   ]
  },
  {
   "cell_type": "code",
   "execution_count": 20,
   "metadata": {},
   "outputs": [
    {
     "name": "stdout",
     "output_type": "stream",
     "text": [
      "1: 0 분 5 초\n"
     ]
    }
   ],
   "source": [
    "#연습문제2\n",
    "# 1. 초를 입력받아 분과 초로 변환\n",
    "sec = int(input(\"초 입력: \"))\n",
    "print(\"1:\", sec // 60, \"분\", sec % 60, \"초\")"
   ]
  },
  {
   "cell_type": "code",
   "execution_count": null,
   "metadata": {},
   "outputs": [
    {
     "name": "stdout",
     "output_type": "stream",
     "text": [
      "2: 0일 0시간 30분\n"
     ]
    }
   ],
   "source": [
    "#연습문제2\n",
    "# 2. 분(min)을 입력받아 일, 시간, 분으로 변환\n",
    "minutes = int(input(\"분 입력: \"))\n",
    "days = minutes // (24*60)\n",
    "hours = (minutes % (24*60)) // 60\n",
    "mins = minutes % 60\n",
    "print(f\"2: {days}일 {hours}시간 {mins}분\")"
   ]
  },
  {
   "cell_type": "code",
   "execution_count": 21,
   "metadata": {},
   "outputs": [
    {
     "name": "stdout",
     "output_type": "stream",
     "text": [
      "3: 5년 후 원리금 = 6381408\n"
     ]
    }
   ],
   "source": [
    "#연습문제2\n",
    "# 3. 500만원을 연이율 5% 복리로 5년 후 원리금 계산\n",
    "money = 5000000 * (1 + 0.05) ** 5\n",
    "print(\"3: 5년 후 원리금 =\", round(money))"
   ]
  },
  {
   "cell_type": "code",
   "execution_count": 23,
   "metadata": {},
   "outputs": [
    {
     "name": "stdout",
     "output_type": "stream",
     "text": [
      "4: 1부터 100까지 합 = 5050\n"
     ]
    }
   ],
   "source": [
    "#연습문제2\n",
    "# 4. 1부터 n까지 합 n(n+1)/2 공식으로 계산 (예: n=100)\n",
    "n = 100\n",
    "print(\"4: 1부터 100까지 합 =\", n*(n+1)//2)"
   ]
  },
  {
   "cell_type": "code",
   "execution_count": 22,
   "metadata": {},
   "outputs": [
    {
     "name": "stdout",
     "output_type": "stream",
     "text": [
      "5: 총 무게 = 1317.5 g\n"
     ]
    }
   ],
   "source": [
    "#연습문제2\n",
    "# 5. 포도와 딸기 무게 계산\n",
    "grape = int(input(\"포도 알 개수 입력: \"))\n",
    "straw = int(input(\"딸기 개수 입력: \"))\n",
    "total_weight = grape * 75 + straw * 113.5\n",
    "print(\"5: 총 무게 =\", total_weight, \"g\")"
   ]
  }
 ],
 "metadata": {
  "kernelspec": {
   "display_name": "base",
   "language": "python",
   "name": "python3"
  },
  "language_info": {
   "codemirror_mode": {
    "name": "ipython",
    "version": 3
   },
   "file_extension": ".py",
   "mimetype": "text/x-python",
   "name": "python",
   "nbconvert_exporter": "python",
   "pygments_lexer": "ipython3",
   "version": "3.13.5"
  }
 },
 "nbformat": 4,
 "nbformat_minor": 2
}
