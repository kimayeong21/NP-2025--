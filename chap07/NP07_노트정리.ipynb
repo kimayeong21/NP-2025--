{
 "cells": [
  {
   "cell_type": "markdown",
   "metadata": {},
   "source": [
    "## 7장 노트정리\n",
    "\n",
    "이파일은 7장 학습하면서 실행한 내용을 정리한 것이다.\n",
    "\n",
    "날짜 : 2025.10.01\n",
    "\n",
    "저자: 김아영 학번: 202311394"
   ]
  },
  {
   "cell_type": "markdown",
   "metadata": {},
   "source": [
    "# 모듈\n",
    "\n",
    ": 함수, 변수, 클래스들을 모아 놓은 파일 묶음(라이브러리)\n",
    "\n",
    "모류의 종류: 표준 모듈, 서드 파티 모듈, 사용자 정의 모듈\n",
    "\n",
    "파이썬은 오픈 소스를 지향하므로 많은 사람들이 개발하여 공개한 수 많은 모듈이 존재함\n",
    "\n",
    "오픈 모듈은 무료로 사용할 수 있음\n",
    "\n",
    "빅데이터, 인공지능, 사물 인터넷 등과 같은 4차 산업 프로그램들은 오픈 모듈을 사용할 수 있기 때문에 파이썬을 주로 사용함\n",
    "\n"
   ]
  },
  {
   "cell_type": "code",
   "execution_count": null,
   "metadata": {},
   "outputs": [
    {
     "name": "stdout",
     "output_type": "stream",
     "text": [
      "Help on class socket in module socket:\n",
      "\n",
      "class socket(_socket.socket)\n",
      " |  socket(family=-1, type=-1, proto=-1, fileno=None)\n",
      " |\n",
      " |  A subclass of _socket.socket adding the makefile() method.\n",
      " |\n",
      " |  Method resolution order:\n",
      " |      socket\n",
      " |      _socket.socket\n",
      " |      builtins.object\n",
      " |\n",
      " |  Methods defined here:\n",
      " |\n",
      " |  __enter__(self)\n",
      " |\n",
      " |  __exit__(self, *args)\n",
      " |\n",
      " |  __getstate__(self)\n",
      " |      Helper for pickle.\n",
      " |\n",
      " |  __init__(self, family=-1, type=-1, proto=-1, fileno=None)\n",
      " |      Initialize self.  See help(type(self)) for accurate signature.\n",
      " |\n",
      " |  __repr__(self)\n",
      " |      Wrap __repr__() to reveal the real class name and socket\n",
      " |      address(es).\n",
      " |\n",
      " |  accept(self)\n",
      " |      accept() -> (socket object, address info)\n",
      " |\n",
      " |      Wait for an incoming connection.  Return a new socket\n",
      " |      representing the connection, and the address of the client.\n",
      " |      For IP sockets, the address info is a pair (hostaddr, port).\n",
      " |\n",
      " |  close(self)\n",
      " |      close()\n",
      " |\n",
      " |      Close the socket.  It cannot be used after this call.\n",
      " |\n",
      " |  detach(self)\n",
      " |      detach() -> file descriptor\n",
      " |\n",
      " |      Close the socket object without closing the underlying file descriptor.\n",
      " |      The object cannot be used after this call, but the file descriptor\n",
      " |      can be reused for other purposes.  The file descriptor is returned.\n",
      " |\n",
      " |  dup(self)\n",
      " |      dup() -> socket object\n",
      " |\n",
      " |      Duplicate the socket. Return a new socket object connected to the same\n",
      " |      system resource. The new socket is non-inheritable.\n",
      " |\n",
      " |  get_inheritable(self)\n",
      " |      Get the inheritable flag of the socket\n",
      " |\n",
      " |  makefile(\n",
      " |      self,\n",
      " |      mode='r',\n",
      " |      buffering=None,\n",
      " |      *,\n",
      " |      encoding=None,\n",
      " |      errors=None,\n",
      " |      newline=None\n",
      " |  )\n",
      " |      makefile(...) -> an I/O stream connected to the socket\n",
      " |\n",
      " |      The arguments are as for io.open() after the filename, except the only\n",
      " |      supported mode values are 'r' (default), 'w', 'b', or a combination of\n",
      " |      those.\n",
      " |\n",
      " |  sendfile(self, file, offset=0, count=None)\n",
      " |      sendfile(file[, offset[, count]]) -> sent\n",
      " |\n",
      " |      Send a file until EOF is reached by using high-performance\n",
      " |      os.sendfile() and return the total number of bytes which\n",
      " |      were sent.\n",
      " |      *file* must be a regular file object opened in binary mode.\n",
      " |      If os.sendfile() is not available (e.g. Windows) or file is\n",
      " |      not a regular file socket.send() will be used instead.\n",
      " |      *offset* tells from where to start reading the file.\n",
      " |      If specified, *count* is the total number of bytes to transmit\n",
      " |      as opposed to sending the file until EOF is reached.\n",
      " |      File position is updated on return or also in case of error in\n",
      " |      which case file.tell() can be used to figure out the number of\n",
      " |      bytes which were sent.\n",
      " |      The socket must be of SOCK_STREAM type.\n",
      " |      Non-blocking sockets are not supported.\n",
      " |\n",
      " |  set_inheritable(self, inheritable)\n",
      " |      Set the inheritable flag of the socket\n",
      " |\n",
      " |  ----------------------------------------------------------------------\n",
      " |  Readonly properties defined here:\n",
      " |\n",
      " |  family\n",
      " |      Read-only access to the address family for this socket.\n",
      " |\n",
      " |  type\n",
      " |      Read-only access to the socket type.\n",
      " |\n",
      " |  ----------------------------------------------------------------------\n",
      " |  Data descriptors defined here:\n",
      " |\n",
      " |  __weakref__\n",
      " |      list of weak references to the object\n",
      " |\n",
      " |  ----------------------------------------------------------------------\n",
      " |  Methods inherited from _socket.socket:\n",
      " |\n",
      " |  __del__(self, /)\n",
      " |      Called when the instance is about to be destroyed.\n",
      " |\n",
      " |  bind(self, object, /)\n",
      " |      bind(address)\n",
      " |\n",
      " |      Bind the socket to a local address.  For IP sockets, the address is a\n",
      " |      pair (host, port); the host must refer to the local host. For raw packet\n",
      " |      sockets the address is a tuple (ifname, proto [,pkttype [,hatype [,addr]]])\n",
      " |\n",
      " |  connect(self, object, /)\n",
      " |      connect(address)\n",
      " |\n",
      " |      Connect the socket to a remote address.  For IP sockets, the address\n",
      " |      is a pair (host, port).\n",
      " |\n",
      " |  connect_ex(self, object, /)\n",
      " |      connect_ex(address) -> errno\n",
      " |\n",
      " |      This is like connect(address), but returns an error code (the errno value)\n",
      " |      instead of raising an exception when an error occurs.\n",
      " |\n",
      " |  fileno(self, /)\n",
      " |      fileno() -> integer\n",
      " |\n",
      " |      Return the integer file descriptor of the socket.\n",
      " |\n",
      " |  getblocking(self, /)\n",
      " |      getblocking()\n",
      " |\n",
      " |      Returns True if socket is in blocking mode, or False if it\n",
      " |      is in non-blocking mode.\n",
      " |\n",
      " |  getpeername(self, /)\n",
      " |      getpeername() -> address info\n",
      " |\n",
      " |      Return the address of the remote endpoint.  For IP sockets, the address\n",
      " |      info is a pair (hostaddr, port).\n",
      " |\n",
      " |  getsockname(self, /)\n",
      " |      getsockname() -> address info\n",
      " |\n",
      " |      Return the address of the local endpoint. The format depends on the\n",
      " |      address family. For IPv4 sockets, the address info is a pair\n",
      " |      (hostaddr, port). For IPv6 sockets, the address info is a 4-tuple\n",
      " |      (hostaddr, port, flowinfo, scope_id).\n",
      " |\n",
      " |  getsockopt(...)\n",
      " |      getsockopt(level, option[, buffersize]) -> value\n",
      " |\n",
      " |      Get a socket option.  See the Unix manual for level and option.\n",
      " |      If a nonzero buffersize argument is given, the return value is a\n",
      " |      string of that length; otherwise it is an integer.\n",
      " |\n",
      " |  gettimeout(self, /)\n",
      " |      gettimeout() -> timeout\n",
      " |\n",
      " |      Returns the timeout in seconds (float) associated with socket\n",
      " |      operations. A timeout of None indicates that timeouts on socket\n",
      " |      operations are disabled.\n",
      " |\n",
      " |  ioctl(...)\n",
      " |      ioctl(cmd, option) -> long\n",
      " |\n",
      " |      Control the socket with WSAIoctl syscall. Currently supported 'cmd' values are\n",
      " |      SIO_RCVALL:  'option' must be one of the socket.RCVALL_* constants.\n",
      " |      SIO_KEEPALIVE_VALS:  'option' is a tuple of (onoff, timeout, interval).\n",
      " |      SIO_LOOPBACK_FAST_PATH: 'option' is a boolean value, and is disabled by default\n",
      " |\n",
      " |  listen(...)\n",
      " |      listen([backlog])\n",
      " |\n",
      " |      Enable a server to accept connections.  If backlog is specified, it must be\n",
      " |      at least 0 (if it is lower, it is set to 0); it specifies the number of\n",
      " |      unaccepted connections that the system will allow before refusing new\n",
      " |      connections. If not specified, a default reasonable value is chosen.\n",
      " |\n",
      " |  recv(...)\n",
      " |      recv(buffersize[, flags]) -> data\n",
      " |\n",
      " |      Receive up to buffersize bytes from the socket.  For the optional flags\n",
      " |      argument, see the Unix manual.  When no data is available, block until\n",
      " |      at least one byte is available or until the remote end is closed.  When\n",
      " |      the remote end is closed and all data is read, return the empty string.\n",
      " |\n",
      " |  recv_into(...)\n",
      " |      recv_into(buffer, [nbytes[, flags]]) -> nbytes_read\n",
      " |\n",
      " |      A version of recv() that stores its data into a buffer rather than creating\n",
      " |      a new string.  Receive up to buffersize bytes from the socket.  If buffersize\n",
      " |      is not specified (or 0), receive up to the size available in the given buffer.\n",
      " |\n",
      " |      See recv() for documentation about the flags.\n",
      " |\n",
      " |  recvfrom(...)\n",
      " |      recvfrom(buffersize[, flags]) -> (data, address info)\n",
      " |\n",
      " |      Like recv(buffersize, flags) but also return the sender's address info.\n",
      " |\n",
      " |  recvfrom_into(...)\n",
      " |      recvfrom_into(buffer[, nbytes[, flags]]) -> (nbytes, address info)\n",
      " |\n",
      " |      Like recv_into(buffer[, nbytes[, flags]]) but also return the sender's address info.\n",
      " |\n",
      " |  send(...)\n",
      " |      send(data[, flags]) -> count\n",
      " |\n",
      " |      Send a data string to the socket.  For the optional flags\n",
      " |      argument, see the Unix manual.  Return the number of bytes\n",
      " |      sent; this may be less than len(data) if the network is busy.\n",
      " |\n",
      " |  sendall(...)\n",
      " |      sendall(data[, flags])\n",
      " |\n",
      " |      Send a data string to the socket.  For the optional flags\n",
      " |      argument, see the Unix manual.  This calls send() repeatedly\n",
      " |      until all data is sent.  If an error occurs, it's impossible\n",
      " |      to tell how much data has been sent.\n",
      " |\n",
      " |  sendto(...)\n",
      " |      sendto(data[, flags], address) -> count\n",
      " |\n",
      " |      Like send(data, flags) but allows specifying the destination address.\n",
      " |      For IP sockets, the address is a pair (hostaddr, port).\n",
      " |\n",
      " |  setblocking(self, object, /)\n",
      " |      setblocking(flag)\n",
      " |\n",
      " |      Set the socket to blocking (flag is true) or non-blocking (false).\n",
      " |      setblocking(True) is equivalent to settimeout(None);\n",
      " |      setblocking(False) is equivalent to settimeout(0.0).\n",
      " |\n",
      " |  setsockopt(...)\n",
      " |      setsockopt(level, option, value: int)\n",
      " |      setsockopt(level, option, value: buffer)\n",
      " |      setsockopt(level, option, None, optlen: int)\n",
      " |\n",
      " |      Set a socket option.  See the Unix manual for level and option.\n",
      " |      The value argument can either be an integer, a string buffer, or\n",
      " |      None, optlen.\n",
      " |\n",
      " |  settimeout(self, object, /)\n",
      " |      settimeout(timeout)\n",
      " |\n",
      " |      Set a timeout on socket operations.  'timeout' can be a float,\n",
      " |      giving in seconds, or None.  Setting a timeout of None disables\n",
      " |      the timeout feature and is equivalent to setblocking(1).\n",
      " |      Setting a timeout of zero is the same as setblocking(0).\n",
      " |\n",
      " |  share(...)\n",
      " |      share(process_id) -> bytes\n",
      " |\n",
      " |      Share the socket with another process.  The target process id\n",
      " |      must be provided and the resulting bytes object passed to the target\n",
      " |      process.  There the shared socket can be instantiated by calling\n",
      " |      socket.fromshare().\n",
      " |\n",
      " |  shutdown(self, object, /)\n",
      " |      shutdown(flag)\n",
      " |\n",
      " |      Shut down the reading side of the socket (flag == SHUT_RD), the writing side\n",
      " |      of the socket (flag == SHUT_WR), or both ends (flag == SHUT_RDWR).\n",
      " |\n",
      " |  ----------------------------------------------------------------------\n",
      " |  Static methods inherited from _socket.socket:\n",
      " |\n",
      " |  __new__(*args, **kwargs) class method of _socket.socket\n",
      " |      Create and return a new object.  See help(type) for accurate signature.\n",
      " |\n",
      " |  ----------------------------------------------------------------------\n",
      " |  Data descriptors inherited from _socket.socket:\n",
      " |\n",
      " |  proto\n",
      " |      the socket protocol\n",
      " |\n",
      " |  timeout\n",
      " |      the socket timeout\n",
      "\n"
     ]
    }
   ],
   "source": [
    "# 모듈 사용하기\n",
    "\n",
    "import socket\n",
    "socket.gethostname() # 모듈이름.속성 형태로 호출\n",
    "\n",
    "dir(socket) # 모듈의 속성(함수, 변수 등) 확인\n",
    "help(socket.socket) # 모듈의 도움말 확인\n"
   ]
  },
  {
   "cell_type": "code",
   "execution_count": null,
   "metadata": {},
   "outputs": [
    {
     "data": {
      "text/plain": [
       "'DESKTOP-5MTOPLQ'"
      ]
     },
     "execution_count": 2,
     "metadata": {},
     "output_type": "execute_result"
    }
   ],
   "source": [
    "# 모듈 불러오기 2\n",
    "\n",
    "from socket import gethostname\n",
    "gethostname() # 모듈이름 없이 속성만으로 호출"
   ]
  },
  {
   "cell_type": "code",
   "execution_count": null,
   "metadata": {},
   "outputs": [
    {
     "data": {
      "text/plain": [
       "'DESKTOP-5MTOPLQ'"
      ]
     },
     "execution_count": 3,
     "metadata": {},
     "output_type": "execute_result"
    }
   ],
   "source": [
    "# 모듈 불러오기 3\n",
    "from socket import *\n",
    "gethostname() # 메소드를 직접 호출"
   ]
  },
  {
   "cell_type": "code",
   "execution_count": null,
   "metadata": {},
   "outputs": [
    {
     "data": {
      "text/plain": [
       "'DESKTOP-5MTOPLQ'"
      ]
     },
     "execution_count": 4,
     "metadata": {},
     "output_type": "execute_result"
    }
   ],
   "source": [
    "# 모듈 불러오기 4\n",
    "import socket as so # 모듈을 단축이름으로 불려오기\n",
    "so.gethostname() # 단축이름으로 속성 호출\n"
   ]
  },
  {
   "cell_type": "code",
   "execution_count": null,
   "metadata": {},
   "outputs": [
    {
     "name": "stdout",
     "output_type": "stream",
     "text": [
      "1\n",
      "2\n"
     ]
    }
   ],
   "source": [
    "# 사용자 정의 모듈\n",
    "def sum(n):\n",
    "    sum = 0\n",
    "    for i in range(1, n+1):\n",
    "        sum = sum + i\n",
    "        return sum\n",
    "    \n",
    "def power(x, n):\n",
    "    prod = 1\n",
    "    for i in range(1, n+1):\n",
    "        prod = prod * x\n",
    "        return prod\n",
    "    \n",
    "if __name__ == '__main__': # myModule.py를 직접 호출할 때만 실행됨\n",
    " print(sum(5))\n",
    " print(power(2, 3))"
   ]
  },
  {
   "cell_type": "code",
   "execution_count": null,
   "metadata": {},
   "outputs": [
    {
     "name": "stdout",
     "output_type": "stream",
     "text": [
      "1 2\n"
     ]
    }
   ],
   "source": [
    "# 사용자 정의 모듈\n",
    "import myModule #모듈을 불러온다. 파일이름에서 .py 제외\n",
    "hab = myModule.sum(10) #모듈의 sum 함수 실행\n",
    "pwr = myModule.power(2,3) #모듈의 power 함수 실행\n",
    "print(hab, pwr)"
   ]
  },
  {
   "cell_type": "code",
   "execution_count": null,
   "metadata": {},
   "outputs": [
    {
     "data": {
      "text/plain": [
       "'3.13.7 (tags/v3.13.7:bcee1c3, Aug 14 2025, 14:15:11) [MSC v.1944 64 bit (AMD64)]'"
      ]
     },
     "execution_count": 2,
     "metadata": {},
     "output_type": "execute_result"
    }
   ],
   "source": [
    "# 모듈\n",
    "import sys # 파이썬 버전정보\n",
    "sys.version"
   ]
  },
  {
   "cell_type": "code",
   "execution_count": null,
   "metadata": {},
   "outputs": [
    {
     "data": {
      "text/plain": [
       "'c:\\\\Users\\\\LG0001\\\\AppData\\\\Local\\\\Programs\\\\Python\\\\Python313'"
      ]
     },
     "execution_count": 3,
     "metadata": {},
     "output_type": "execute_result"
    }
   ],
   "source": [
    "import sys\n",
    "sys.prefix"
   ]
  },
  {
   "cell_type": "code",
   "execution_count": null,
   "metadata": {},
   "outputs": [
    {
     "data": {
      "text/plain": [
       "['c:\\\\Users\\\\LG0001\\\\AppData\\\\Local\\\\Programs\\\\Python\\\\Python313\\\\python313.zip',\n",
       " 'c:\\\\Users\\\\LG0001\\\\AppData\\\\Local\\\\Programs\\\\Python\\\\Python313\\\\DLLs',\n",
       " 'c:\\\\Users\\\\LG0001\\\\AppData\\\\Local\\\\Programs\\\\Python\\\\Python313\\\\Lib',\n",
       " 'c:\\\\Users\\\\LG0001\\\\AppData\\\\Local\\\\Programs\\\\Python\\\\Python313',\n",
       " '',\n",
       " 'C:\\\\Users\\\\LG0001\\\\AppData\\\\Roaming\\\\Python\\\\Python313\\\\site-packages',\n",
       " 'C:\\\\Users\\\\LG0001\\\\AppData\\\\Roaming\\\\Python\\\\Python313\\\\site-packages\\\\win32',\n",
       " 'C:\\\\Users\\\\LG0001\\\\AppData\\\\Roaming\\\\Python\\\\Python313\\\\site-packages\\\\win32\\\\lib',\n",
       " 'C:\\\\Users\\\\LG0001\\\\AppData\\\\Roaming\\\\Python\\\\Python313\\\\site-packages\\\\Pythonwin',\n",
       " 'c:\\\\Users\\\\LG0001\\\\AppData\\\\Local\\\\Programs\\\\Python\\\\Python313\\\\Lib\\\\site-packages']"
      ]
     },
     "execution_count": 6,
     "metadata": {},
     "output_type": "execute_result"
    }
   ],
   "source": [
    "import sys\n",
    "sys.path # 파이썬 모듈을 찾는 경로"
   ]
  },
  {
   "cell_type": "code",
   "execution_count": null,
   "metadata": {},
   "outputs": [],
   "source": [
    "import sys\n",
    "sys.stdin.readline() # 표준 입력장치. file 객체의 속성과 메소드 사용\n",
    "# 답: 입력> hello 실행값> hello\\n"
   ]
  },
  {
   "cell_type": "code",
   "execution_count": 1,
   "metadata": {},
   "outputs": [
    {
     "name": "stdout",
     "output_type": "stream",
     "text": [
      "Hello"
     ]
    },
    {
     "data": {
      "text/plain": [
       "5"
      ]
     },
     "execution_count": 1,
     "metadata": {},
     "output_type": "execute_result"
    }
   ],
   "source": [
    "import sys\n",
    "sys.stdout.write('Hello') # 표준 출력장치. file 객체의 속성과 메소드 사용"
   ]
  },
  {
   "cell_type": "code",
   "execution_count": 2,
   "metadata": {},
   "outputs": [
    {
     "name": "stdout",
     "output_type": "stream",
     "text": [
      "--f=c:\\Users\\LG0001\\AppData\\Roaming\\jupyter\\runtime\\kernel-v34f0c76ee1c643ba734b4811644774e8c96d93bc2.json "
     ]
    }
   ],
   "source": [
    "# sys.argv 속성\n",
    "# echo.py\n",
    "import sys\n",
    "for i in range(1, len(sys.argv)):\n",
    "    print(sys.argv[i], end=' ')"
   ]
  },
  {
   "cell_type": "code",
   "execution_count": 33,
   "metadata": {},
   "outputs": [
    {
     "data": {
      "text/plain": [
       "'e'"
      ]
     },
     "execution_count": 33,
     "metadata": {},
     "output_type": "execute_result"
    }
   ],
   "source": [
    "# random 모듈\n",
    "import random\n",
    "random.randint(1,5) # 1~5 사이의 임의의 정수 \n",
    "\n",
    "random.random() # 0~1 사이의 임의의 실수\n",
    "\n",
    "random.randrange(1, 10, 1) # 1~10 사이의 임의의 홀수\n",
    "\n",
    "random.choice('hello') # 'hello'에서 임의로 하나의 문자 반환환\n"
   ]
  },
  {
   "cell_type": "code",
   "execution_count": 37,
   "metadata": {},
   "outputs": [
    {
     "data": {
      "text/plain": [
       "0.3010299956639812"
      ]
     },
     "execution_count": 37,
     "metadata": {},
     "output_type": "execute_result"
    }
   ],
   "source": [
    "# math 모듈\n",
    "import math\n",
    "dir(math) # math 모듈의 함수와 상수\n",
    "\n",
    "math.pi # 원주율\n",
    "\n",
    "math.sin(math.pi/6) # sin 함수\n",
    "\n",
    "math.log10(2) # 로그 함수"
   ]
  },
  {
   "cell_type": "code",
   "execution_count": 39,
   "metadata": {},
   "outputs": [
    {
     "data": {
      "text/plain": [
       "'Wed Oct  1 13:52:32 2025'"
      ]
     },
     "execution_count": 39,
     "metadata": {},
     "output_type": "execute_result"
    }
   ],
   "source": [
    "# time 모듈\n",
    "import time\n",
    "time.time() # 1970년 1월 1일 이후 지난 시간을 초단위로 반환\n",
    "\n",
    "time.asctime() # 현재 시간 문자열로 반환\n",
    "\n"
   ]
  },
  {
   "cell_type": "code",
   "execution_count": 40,
   "metadata": {},
   "outputs": [
    {
     "name": "stdout",
     "output_type": "stream",
     "text": [
      "                                                                                                                      2025\n",
      "\n",
      "                                  January                                                                           February                                                                           March\n",
      "  Monday    Tuesday   Wednesday   Thursday    Friday    Saturday    Sunday          Monday    Tuesday   Wednesday   Thursday    Friday    Saturday    Sunday          Monday    Tuesday   Wednesday   Thursday    Friday    Saturday    Sunday\n",
      "                           1          2          3          4          5                                                                      1          2                                                                      1          2\n",
      "     6          7          8          9         10         11         12               3          4          5          6          7          8          9               3          4          5          6          7          8          9\n",
      "    13         14         15         16         17         18         19              10         11         12         13         14         15         16              10         11         12         13         14         15         16\n",
      "    20         21         22         23         24         25         26              17         18         19         20         21         22         23              17         18         19         20         21         22         23\n",
      "    27         28         29         30         31                                    24         25         26         27         28                                    24         25         26         27         28         29         30\n",
      "                                                                                                                                                                        31\n",
      "\n",
      "                                   April                                                                              May                                                                               June\n",
      "  Monday    Tuesday   Wednesday   Thursday    Friday    Saturday    Sunday          Monday    Tuesday   Wednesday   Thursday    Friday    Saturday    Sunday          Monday    Tuesday   Wednesday   Thursday    Friday    Saturday    Sunday\n",
      "                1          2          3          4          5          6                                                1          2          3          4                                                                                 1\n",
      "     7          8          9         10         11         12         13               5          6          7          8          9         10         11               2          3          4          5          6          7          8\n",
      "    14         15         16         17         18         19         20              12         13         14         15         16         17         18               9         10         11         12         13         14         15\n",
      "    21         22         23         24         25         26         27              19         20         21         22         23         24         25              16         17         18         19         20         21         22\n",
      "    28         29         30                                                          26         27         28         29         30         31                         23         24         25         26         27         28         29\n",
      "                                                                                                                                                                        30\n",
      "\n",
      "                                    July                                                                             August                                                                          September\n",
      "  Monday    Tuesday   Wednesday   Thursday    Friday    Saturday    Sunday          Monday    Tuesday   Wednesday   Thursday    Friday    Saturday    Sunday          Monday    Tuesday   Wednesday   Thursday    Friday    Saturday    Sunday\n",
      "                1          2          3          4          5          6                                                           1          2          3               1          2          3          4          5          6          7\n",
      "     7          8          9         10         11         12         13               4          5          6          7          8          9         10               8          9         10         11         12         13         14\n",
      "    14         15         16         17         18         19         20              11         12         13         14         15         16         17              15         16         17         18         19         20         21\n",
      "    21         22         23         24         25         26         27              18         19         20         21         22         23         24              22         23         24         25         26         27         28\n",
      "    28         29         30         31                                               25         26         27         28         29         30         31              29         30\n",
      "\n",
      "                                  October                                                                           November                                                                          December\n",
      "  Monday    Tuesday   Wednesday   Thursday    Friday    Saturday    Sunday          Monday    Tuesday   Wednesday   Thursday    Friday    Saturday    Sunday          Monday    Tuesday   Wednesday   Thursday    Friday    Saturday    Sunday\n",
      "                           1          2          3          4          5                                                                      1          2               1          2          3          4          5          6          7\n",
      "     6          7          8          9         10         11         12               3          4          5          6          7          8          9               8          9         10         11         12         13         14\n",
      "    13         14         15         16         17         18         19              10         11         12         13         14         15         16              15         16         17         18         19         20         21\n",
      "    20         21         22         23         24         25         26              17         18         19         20         21         22         23              22         23         24         25         26         27         28\n",
      "    27         28         29         30         31                                    24         25         26         27         28         29         30              29         30         31\n",
      "None\n"
     ]
    }
   ],
   "source": [
    "# calendar 모듈\n",
    "import calendar\n",
    "print(calendar.prcal(2025, 10)) # 2023년 달력 출력"
   ]
  },
  {
   "cell_type": "code",
   "execution_count": 43,
   "metadata": {},
   "outputs": [
    {
     "name": "stdout",
     "output_type": "stream",
     "text": [
      "RED 1\n",
      "Color.RED\n",
      "Color.GREEN\n",
      "Color.BLUE\n"
     ]
    }
   ],
   "source": [
    "# 유용한 모듈\n",
    "from enum import Enum\n",
    "class Color(Enum):\n",
    "    RED = 1 # name = value\n",
    "    GREEN = 2\n",
    "    BLUE = 3\n",
    "    \n",
    "#Color의 속성: Color.RED, Color.GREEN, Color.BLUE\n",
    "#속성은 name(RED, GREEN, BLUE)과 value(1, 2, 3)를 가진다\n",
    "#속성의 value를 변경할 수 없다\n",
    "print(Color.RED.name, Color.RED.value)\n",
    "\n",
    "# Color.RED = 5 #error 발생. 상수이므로 변경할 수 없음\n",
    "\n",
    "for x in Color: #Color의 모든 속성 출력\n",
    "    print(x)"
   ]
  },
  {
   "cell_type": "markdown",
   "metadata": {},
   "source": [
    "# init_py의 역할\n",
    "파이썬 패키지로 인식:\n",
    "- __init__.py 파일은 해당 디렉토리를 Python 패키지로 인식하게 만듬\n",
    "- Python 3.3 이상에서는 __init__.py가 없어도 패키지로 인식되지만, 명시적으로 포함하는 것이 권장됨\n",
    "\n",
    "초기화 코드 실행:\n",
    "- 패키지가 import될 때 실행할 초기화 코드를 포함할 수 있음.\n",
    "- 예를 들어, 패키지 내에서 공통적으로 사용할 설정이나 변수 초기화를 수행할 수 있음.\n",
    "\n"
   ]
  },
  {
   "cell_type": "markdown",
   "metadata": {},
   "source": [
    "# 모듈\n",
    "모듈이란:  Python에서 하나의 .py 파일이 하나의 모듈\n",
    " - 모듈은 함수, 클래스, 변수 등을 포함할 수 있으며, 코드 재사용을 위해 사용\n",
    "\n",
    "# 패키지\n",
    "정의: python에서 디렉토리가 패키지\n",
    " - 패키지는 여러 모듈을 포함할 수 있음\n",
    " - 대규모 프로젝트에 필요\n",
    " - 디렉토리에 __init__.py 가 필수적 (비어 있더라도 인식)\n"
   ]
  },
  {
   "cell_type": "markdown",
   "metadata": {},
   "source": [
    "# 패키지\n",
    "정의:\n",
    "- Python에서 디렉토리가 패키지\n",
    "- 패키지는 여러 모듈을 포함할 수 있으며, 디렉토리 내에 __init__.py 파일이 있어야 패키지로 인식됨\n",
    "\n",
    "• 특징:\n",
    "- 디렉토리 단위로 구성됨.\n",
    "- 모듈을 그룹화하여 계층 구조를 제공.\n",
    "- 대규모 프로젝트에서 코드 구조를 체계적으로 관리하는 데 유용.\n"
   ]
  },
  {
   "cell_type": "markdown",
   "metadata": {},
   "source": [
    "# 파이썬 가상환경\n",
    "가상환경이란?\n",
    " - 프로젝트별로 독립된 파이썬 환경을 만드는 도구\n",
    " - 각 프로젝트가 서로 다른 패키지 버전을 사용할 수 있게 함\n",
    " - 시스템 파이썬 환경을 오염시키지 않음"
   ]
  }
 ],
 "metadata": {
  "kernelspec": {
   "display_name": "Python 3",
   "language": "python",
   "name": "python3"
  },
  "language_info": {
   "codemirror_mode": {
    "name": "ipython",
    "version": 3
   },
   "file_extension": ".py",
   "mimetype": "text/x-python",
   "name": "python",
   "nbconvert_exporter": "python",
   "pygments_lexer": "ipython3",
   "version": "3.13.7"
  }
 },
 "nbformat": 4,
 "nbformat_minor": 2
}
