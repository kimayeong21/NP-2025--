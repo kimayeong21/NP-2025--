{
 "cells": [
  {
   "cell_type": "markdown",
   "metadata": {},
   "source": [
    "## 4장 연습문제\n",
    "\n",
    "이파일은 4장 학습하면서 연습문제를 실행한 내용을 풀이한 내용입니다.\n",
    "\n",
    "날짜 : 2025.09.10\n",
    "\n",
    "저자: 김아영 학번: 202311394"
   ]
  },
  {
   "cell_type": "code",
   "execution_count": null,
   "metadata": {},
   "outputs": [
    {
     "name": "stdout",
     "output_type": "stream",
     "text": [
      "최종 친구 리스트: ['지훈', '철수', '수빈', '영희', '민수', '현아']\n"
     ]
    }
   ],
   "source": [
    "#연습문제 1\n",
    "#3명 이상 친구 이름 리스트를 작성하고 다음 내용을 프로그램\n",
    "# 초기 친구 리스트\n",
    "friends = [\"철수\", \"영희\", \"민수\"]\n",
    "\n",
    "# 맨 앞에 새로운 친구 추가\n",
    "friends.insert(0, \"지훈\")\n",
    "\n",
    "# 3번째 위치(인덱스 2)에 새로운 친구 추가\n",
    "friends.insert(2, \"수빈\")\n",
    "\n",
    "# 마지막에 친구 추가\n",
    "friends.append(\"현아\")\n",
    "\n",
    "print(\"최종 친구 리스트:\", friends)"
   ]
  },
  {
   "cell_type": "code",
   "execution_count": 1,
   "metadata": {},
   "outputs": [
    {
     "name": "stdout",
     "output_type": "stream",
     "text": [
      "두 번째 요소 수정: [1, 17, 3]\n",
      "4, 5, 6 추가: [1, 17, 3, 4, 5, 6]\n",
      "첫 번째 요소 제거: [17, 3, 4, 5, 6]\n",
      "정렬: [3, 4, 5, 6, 17]\n",
      "인덱스 3에 25: [3, 4, 5, 25, 6, 17]\n"
     ]
    }
   ],
   "source": [
    "#연습문제 1\n",
    "# 리스트[1,2,3]에 대해 다음과 같은 처리를 하라\n",
    "# 리스트 [1, 2, 3] 처리\n",
    "lst = [1, 2, 3]\n",
    "\n",
    "# 두 번째 요소를 17로 수정\n",
    "lst[1] = 17\n",
    "print(\"두 번째 요소 수정:\", lst)\n",
    "\n",
    "# 리스트에 4, 5, 6 추가\n",
    "lst.extend([4, 5, 6])\n",
    "print(\"4, 5, 6 추가:\", lst)\n",
    "\n",
    "# 첫 번째 요소 제거\n",
    "del lst[0]\n",
    "print(\"첫 번째 요소 제거:\", lst)\n",
    "\n",
    "# 리스트 정렬\n",
    "lst.sort()\n",
    "print(\"정렬:\", lst)\n",
    "\n",
    "# 인덱스 3에 25 넣기\n",
    "lst.insert(3, 25)\n",
    "print(\"인덱스 3에 25:\", lst)"
   ]
  },
  {
   "cell_type": "code",
   "execution_count": 3,
   "metadata": {},
   "outputs": [
    {
     "name": "stdout",
     "output_type": "stream",
     "text": [
      "0~49 리스트: [0, 1, 2, 3, 4, 5, 6, 7, 8, 9, 10, 11, 12, 13, 14, 15, 16, 17, 18, 19, 20, 21, 22, 23, 24, 25, 26, 27, 28, 29, 30, 31, 32, 33, 34, 35, 36, 37, 38, 39, 40, 41, 42, 43, 44, 45, 46, 47, 48, 49]\n",
      "1~50 제곱 리스트: [1, 4, 9, 16, 25, 36, 49, 64, 81, 100, 121, 144, 169, 196, 225, 256, 289, 324, 361, 400, 441, 484, 529, 576, 625, 676, 729, 784, 841, 900, 961, 1024, 1089, 1156, 1225, 1296, 1369, 1444, 1521, 1600, 1681, 1764, 1849, 1936, 2025, 2116, 2209, 2304, 2401, 2500]\n"
     ]
    }
   ],
   "source": [
    "#연습문제 2\n",
    "# 0~49 리스트\n",
    "list1 = []\n",
    "for i in range(50):\n",
    "    list1.append(i)\n",
    "print(\"0~49 리스트:\", list1)\n",
    "\n",
    "# 1~50 제곱 리스트\n",
    "list2 = []\n",
    "for i in range(1, 51):\n",
    "    list2.append(i * i)\n",
    "print(\"1~50 제곱 리스트:\", list2)\n"
   ]
  },
  {
   "cell_type": "code",
   "execution_count": 4,
   "metadata": {},
   "outputs": [
    {
     "name": "stdout",
     "output_type": "stream",
     "text": [
      "L: [1, 2, 3]\n",
      "M: [4, 5, 6]\n",
      "두 리스트의 합: [5, 7, 9]\n"
     ]
    }
   ],
   "source": [
    "#연습문제2\n",
    "L = [1, 2, 3]\n",
    "M = [4, 5, 6]\n",
    "\n",
    "# 두 리스트의 같은 위치의 요소끼리 더하기\n",
    "result = []\n",
    "for i in range(len(L)):\n",
    "    result.append(L[i] + M[i])\n",
    "\n",
    "print(\"L:\", L)\n",
    "print(\"M:\", M)\n",
    "print(\"두 리스트의 합:\", result)\n"
   ]
  },
  {
   "cell_type": "code",
   "execution_count": 5,
   "metadata": {},
   "outputs": [
    {
     "name": "stdout",
     "output_type": "stream",
     "text": [
      "생성된 문자열: 2+5+8+9+10\n"
     ]
    }
   ],
   "source": [
    "#연습문제2\n",
    "nums = input(\"숫자 5개를 입력하세요 (예: 2 5 11 33 55): \").split()\n",
    "nums = [int(x) for x in nums]  # 정수형 변환\n",
    "\n",
    "# 각 숫자를 +로 연결된 문자열 만들기\n",
    "expr = \"+\".join(map(str, nums))\n",
    "print(\"생성된 문자열:\", expr)\n"
   ]
  },
  {
   "cell_type": "code",
   "execution_count": 5,
   "metadata": {},
   "outputs": [
    {
     "name": "stdout",
     "output_type": "stream",
     "text": [
      "march는 잘못된 입력일까지 있습니다.\n",
      "알파벳 순서 정렬: ['April', 'August', 'December', 'February', 'January', 'July', 'June', 'March', 'May', 'November', 'October', 'September']\n",
      "31일인 달: ['January', 'March', 'May', 'July', 'August', 'October', 'December']\n",
      "일수 기준 오름차순: [('February', 28), ('April', 30), ('June', 30), ('September', 30), ('November', 30), ('January', 31), ('March', 31), ('May', 31), ('July', 31), ('August', 31), ('October', 31), ('December', 31)]\n"
     ]
    }
   ],
   "source": [
    "#연습문제 1(딕셔너리)\n",
    "\n",
    "days = {\n",
    "    'January':31, 'February':28, 'March':31, 'April':30,\n",
    "    'May':31, 'June':30, 'July':31, 'August':31,\n",
    "    'September':30, 'October':31, 'November':30, 'December':31\n",
    "}\n",
    "\n",
    "# 1) 사용자가 월 입력하면 해당 월의 일수 출력\n",
    "month = input(\"월을 입력하세요 (예: March): \")\n",
    "print(f\"{month}는 {days.get(month, '잘못된 입력')}일까지 있습니다.\")\n",
    "\n",
    "# 2) 알파벳 순서로 모든 월 출력\n",
    "print(\"알파벳 순서 정렬:\", sorted(days.keys()))\n",
    "\n",
    "# 3) 일수가 31인 월 모두 출력\n",
    "print(\"31일인 달:\", [m for m, d in days.items() if d == 31])\n",
    "\n",
    "# 4) 월의 일수를 기준으로 오름차순 정렬 (key-value 쌍)\n",
    "print(\"일수 기준 오름차순:\", sorted(days.items(), key=lambda x: x[1]))\n",
    "\n",
    "# 5) 월을 3자리만 입력하면 일수 출력 (Jan, Feb ...)\n",
    "abbr = input(\"월을 세 글자로 입력하세요 (예: Jan): \")\n",
    "for m in days:\n",
    "    if m.startswith(abbr):\n",
    "        print(f\"{abbr}는 {days[m]}일까지 있습니다.\")\n",
    "        break\n"
   ]
  },
  {
   "cell_type": "code",
   "execution_count": 6,
   "metadata": {},
   "outputs": [
    {
     "name": "stdout",
     "output_type": "stream",
     "text": [
      "로또 번호: {38, 8, 9, 42, 19, 21}\n",
      "정렬된 로또 번호: [8, 9, 19, 21, 38, 42]\n"
     ]
    }
   ],
   "source": [
    "\n",
    "#집합 예제(로또 번호)\n",
    "import random\n",
    "\n",
    "pick = set()   # 빈 집합 생성\n",
    "while len(pick) < 6:\n",
    "    n = random.randint(1, 45)  # 1~45 사이 숫자 랜덤 생성\n",
    "    pick.add(n)  # 중복 방지, 집합에 추가\n",
    "\n",
    "print(\"로또 번호:\", pick)\n",
    "print(\"정렬된 로또 번호:\", sorted(pick))\n"
   ]
  }
 ],
 "metadata": {
  "kernelspec": {
   "display_name": "Python 3",
   "language": "python",
   "name": "python3"
  },
  "language_info": {
   "codemirror_mode": {
    "name": "ipython",
    "version": 3
   },
   "file_extension": ".py",
   "mimetype": "text/x-python",
   "name": "python",
   "nbconvert_exporter": "python",
   "pygments_lexer": "ipython3",
   "version": "3.13.7"
  }
 },
 "nbformat": 4,
 "nbformat_minor": 2
}
