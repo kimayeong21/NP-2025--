{
 "cells": [
  {
   "cell_type": "markdown",
   "metadata": {},
   "source": [
    "## 4장 노트정리\n",
    "\n",
    "이파일은 4장 학습하면서 실행한 내용을 정리한 것이다.\n",
    "\n",
    "날짜 : 2025.09.10\n",
    "\n",
    "저자: 김아영 학번: 202311394"
   ]
  },
  {
   "cell_type": "markdown",
   "metadata": {},
   "source": [
    "문자열(string) : str = ‘abcde’ 홑/겹 따옴표로 묶인 문자열\n",
    "\n",
    "리스트(list) : list = [ 1, 2, 3, 4] 순서가 있는 원소(객체)의 목록\n",
    "\n",
    "\n",
    "튜플(tuple) tuple = (1,2,3) immutable 한 데이터의 쌍\n",
    "\n",
    "딕셔너리(dictionary) dic = {‘a’:1, ‘b’:23, ‘c’: 32} 유일한 키로 이루어진 키:값의 집합\n",
    "\n",
    "\n",
    "집합(set) set = {1,5,3,2} 유일한 값들의 집합\n"
   ]
  },
  {
   "cell_type": "code",
   "execution_count": 3,
   "metadata": {},
   "outputs": [
    {
     "data": {
      "text/plain": [
       "'  he '"
      ]
     },
     "execution_count": 3,
     "metadata": {},
     "output_type": "execute_result"
    }
   ],
   "source": [
    "## 문자열 정리하기\n",
    "\n",
    "'he'.rjust(5)\n",
    "'he'.ljust(5)\n",
    "'he'.center(5)"
   ]
  },
  {
   "cell_type": "code",
   "execution_count": 8,
   "metadata": {},
   "outputs": [
    {
     "data": {
      "text/plain": [
       "[1, 2, 3, 4, 5, 6]"
      ]
     },
     "execution_count": 8,
     "metadata": {},
     "output_type": "execute_result"
    }
   ],
   "source": [
    "#리스트 합치기\n",
    "\n",
    "squares = [1,4,9,16,25]\n",
    "squares  + [36, 49, 64, 81, 100]\n",
    "a = [1,2,3]\n",
    "b = [4,5,6]\n",
    "a+b"
   ]
  },
  {
   "cell_type": "code",
   "execution_count": null,
   "metadata": {},
   "outputs": [
    {
     "data": {
      "text/plain": [
       "(2, 3)"
      ]
     },
     "execution_count": 2,
     "metadata": {},
     "output_type": "execute_result"
    }
   ],
   "source": [
    "# 튜플 연산\n",
    "\n",
    "t1 = (1,2,3)\n",
    "t1[1]\n",
    "## t1[1:3] -> (2, 3)"
   ]
  },
  {
   "cell_type": "code",
   "execution_count": null,
   "metadata": {},
   "outputs": [
    {
     "data": {
      "text/plain": [
       "{2, 3}"
      ]
     },
     "execution_count": 6,
     "metadata": {},
     "output_type": "execute_result"
    }
   ],
   "source": [
    "#집합의 연산\n",
    "\n",
    "setA={1,2,3}\n",
    "setB={2,3,4}\n",
    "setA & setB #->  setA & setB 교집합. setA.intersection(setB)\n",
    "\n"
   ]
  },
  {
   "cell_type": "code",
   "execution_count": 20,
   "metadata": {},
   "outputs": [
    {
     "data": {
      "text/plain": [
       "['Jun', 'Kim', 'Lee']"
      ]
     },
     "execution_count": 20,
     "metadata": {},
     "output_type": "execute_result"
    }
   ],
   "source": [
    "#  딕셔너리 생성\n",
    "height = {'Jun':174, 'Kim':170, 'Lee':165} \n",
    "height\n",
    "\n",
    "test = dict()\n",
    "test\n",
    "\n",
    "\n",
    "#  딕셔너리의 키, 값, 요소를 뽑아내기\n",
    "height.keys() \n",
    "height.values() \n",
    "height.items() \n",
    "\n",
    "\n",
    "# 뽑아낸 키를 리스트로 변환하기\n",
    "dict_keys = height.keys()\n",
    "keys_list = list(dict_keys)\n",
    "keys_list\n"
   ]
  }
 ],
 "metadata": {
  "kernelspec": {
   "display_name": "Python 3",
   "language": "python",
   "name": "python3"
  },
  "language_info": {
   "codemirror_mode": {
    "name": "ipython",
    "version": 3
   },
   "file_extension": ".py",
   "mimetype": "text/x-python",
   "name": "python",
   "nbconvert_exporter": "python",
   "pygments_lexer": "ipython3",
   "version": "3.13.7"
  }
 },
 "nbformat": 4,
 "nbformat_minor": 2
}
