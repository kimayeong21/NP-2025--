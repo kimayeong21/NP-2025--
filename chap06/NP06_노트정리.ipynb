{
 "cells": [
  {
   "cell_type": "markdown",
   "metadata": {},
   "source": [
    "## 6장 노트정리\n",
    "\n",
    "이파일은 6장 학습하면서 실행한 내용을 정리한 것이다.\n",
    "\n",
    "날짜 : 2025.09.24\n",
    "\n",
    "저자: 김아영 학번: 202311394"
   ]
  },
  {
   "cell_type": "markdown",
   "metadata": {},
   "source": [
    "# 클래스 정의\n",
    "class 클래스이름(부모 클래스) : class 키워드로 정의\n",
    "\n",
    "   클래스 몸체\n",
    "\n",
    "클래스는 class 키워드로 정의된다. 부모 클래스는 없으면 생략\n",
    "\n",
    "클래스 몸체는 변수와 메소드로 구성\n"
   ]
  },
  {
   "cell_type": "markdown",
   "metadata": {},
   "source": [
    "# 클래스 객체\n",
    "클래스를 인스턴스화(instantiation)하여 만들어진 것을 객체(object)라 한다\n",
    "\n",
    "객체는 클래스의 변수와 메소드에 접근할 수 있다"
   ]
  },
  {
   "cell_type": "code",
   "execution_count": 2,
   "metadata": {},
   "outputs": [
    {
     "name": "stdout",
     "output_type": "stream",
     "text": [
      "홍길동\n"
     ]
    }
   ],
   "source": [
    "# 클래스 객체\n",
    "class Test: #클래스 정의\n",
    " name = \"홍길동\" #클래스 속성\n",
    "t = Test() #객체 생성\n",
    "print(t.name) #객체에서 클래스 속성 접근\n"
   ]
  },
  {
   "cell_type": "code",
   "execution_count": 3,
   "metadata": {},
   "outputs": [],
   "source": [
    "#클래스 정의\n",
    "class Car :\n",
    "    def __init__(self, color, speed): #초기화 메소드. self는 객체를 나타냄\n",
    "        self.color = color #인스턴스 변수 정의\n",
    "        self.speed = speed\n",
    "    def speedUp(self, v): #메소드의 첫 번째 매개변수는 self\n",
    "        self.speed = self.speed + v\n",
    "        return self.speed\n",
    "    def speedDown(self, v):\n",
    "        self.speed = self.speed - v #다른 메소드에서 정의된 변수 접근\n",
    "        return self.speed \n",
    "    \n",
    "# self.variable로 정의된 변수(인스턴스 변수)는 클래스 전체에서 유효함 클래스 속성은\n",
    "# 인스턴스 변수로 정의\n",
    "# self.가 없는 변수는 메소드 내에서만 유효한 지역변수"
   ]
  },
  {
   "cell_type": "markdown",
   "metadata": {},
   "source": [
    "# 초기화 함수(__init__())\n",
    "객체를 생성할 때 자동실행 매소드\n",
    "\n",
    "인스턴스 변수를 초기화할 때 사용(초기화 필요가 없으면 생략 가능)\n",
    "\n",
    "self를 첫 번쩨 매개변수로 가지며 self는 클래스 객체를 나타냄\n",
    "\n",
    "인스턴스 변수는 클래스 내부의 모든 메소드에서 사용할 수 있음"
   ]
  },
  {
   "cell_type": "code",
   "execution_count": 12,
   "metadata": {},
   "outputs": [
    {
     "name": "stdout",
     "output_type": "stream",
     "text": [
      "색상: Black 속도: 60\n",
      "색상: Red\n",
      "속도: 70\n",
      "속도: 50\n"
     ]
    }
   ],
   "source": [
    "class Car:\n",
    "    def __init__(self, color, speed):\n",
    "        self.color = color\n",
    "        self.speed = speed\n",
    "\n",
    "    # 속도 증가 메서드\n",
    "    def speedup(self, amount):\n",
    "        self.speed += amount\n",
    "\n",
    "    # 속도 감소 메서드\n",
    "    def speeddown(self, amount):\n",
    "        self.speed -= amount\n",
    "\n",
    "\n",
    "# Car 객체 생성\n",
    "mycar = Car('Black', 60)\n",
    "print(\"색상:\", mycar.color, \"속도:\", mycar.speed)  # 속성 접근\n",
    "\n",
    "mycar.color = \"Red\"  # 속성 변경 가능\n",
    "print(\"색상:\", mycar.color)\n",
    "\n",
    "mycar.speedup(10)  # speedup() 메서드 호출\n",
    "print(\"속도:\", mycar.speed)\n",
    "\n",
    "mycar.speeddown(20)  # speeddown() 메서드 호출\n",
    "print(\"속도:\", mycar.speed)\n",
    "      "
   ]
  },
  {
   "cell_type": "code",
   "execution_count": 18,
   "metadata": {},
   "outputs": [
    {
     "name": "stdout",
     "output_type": "stream",
     "text": [
      "(3, 0)\n",
      "2\n",
      "3\n",
      "1 0\n"
     ]
    },
    {
     "data": {
      "text/plain": [
       "0"
      ]
     },
     "execution_count": 18,
     "metadata": {},
     "output_type": "execute_result"
    }
   ],
   "source": [
    "# 클래스 속성: 클래스 변수와 인스턴스 변수\n",
    "class Calc:\n",
    "    count = 0 #클래스 변수. 클래스 내에서 유효\n",
    "    def add(self, a=0, b=0):\n",
    "        self.a = a # 인스턴스 변수\n",
    "        self.b = b\n",
    "        self.count += 1  # 클래스 변수를 self와 함께 사용하면 인스턴스 변수처럼 사용\n",
    "        return self.a + self.b\n",
    "    def minus(self, a,b):\n",
    "        if a == 0 or b== 0:\n",
    "             return a - b, self.count\n",
    "        else:\n",
    "            return a-b\n",
    "obj = Calc()\n",
    "print(obj.minus(3,0)) #count 속성 출력\n",
    "print(obj.minus(3,1))\n",
    "print(obj.add(1, 2)) #count 속성 증가\n",
    "print(obj.count, Calc.count) # 인스턴스 변수(obj.count)는 변하지만 클래스\n",
    "(Calc.count)# 변수는 변하지 않음"
   ]
  },
  {
   "cell_type": "markdown",
   "metadata": {},
   "source": [
    "# 클래스 상속\n"
   ]
  },
  {
   "cell_type": "code",
   "execution_count": 20,
   "metadata": {},
   "outputs": [],
   "source": [
    "class People :\n",
    "    def __init__(self, age=0, name=None):\n",
    "        self.__age = age\n",
    "        self.__name = name\n",
    "        \n",
    "    def introMe(self):\n",
    "        print(\"Name :\", self.__name, \"age :\", str(self.__age))\n",
    "\n",
    "class Teacher(People) :\n",
    "    def __init__(self, age=0, name=None, school=None) :\n",
    "        super().__init__(age, name) #부모 클래스의 속성 할당. self 없음\n",
    "        self.school = school # 자신의 인스턴스 변수 추가\n",
    "    \n",
    "    def showSchool(self):\n",
    "         print(\"My School is \", self.school)"
   ]
  },
  {
   "cell_type": "code",
   "execution_count": 25,
   "metadata": {},
   "outputs": [],
   "source": [
    "# 메소드 오버라이딩\n",
    "class People : #부모 클래스\n",
    "    def __init__(self, age=0, name=None):\n",
    "        self.__age = age\n",
    "        self.__name = name\n",
    "    def introMe(self):\n",
    "        print(\"Name :\", self.__name, \"age :\", str(self.__age))\n",
    " \n",
    "class Student(People) : #자식 클래스\n",
    "     def __init__(self, age=0, name=None, grade=None):\n",
    "        super().__init__(age, name)\n",
    "        self.__grade = grade #자식 클래스의 변수\n",
    "     def introMe(self): # 부모 클래스 메소드를 재정의(오버라이딩)\n",
    "        super().introMe()\n",
    "        print(\"Grade : \", self.__grade)"
   ]
  },
  {
   "cell_type": "code",
   "execution_count": 27,
   "metadata": {},
   "outputs": [
    {
     "name": "stdout",
     "output_type": "stream",
     "text": [
      "Name : Lee age : 29\n",
      "Name : Park age : 17\n",
      "Grade :  2\n"
     ]
    }
   ],
   "source": [
    "#메소드 오버라이딩\n",
    "p1 = People(29, \"Lee\")\n",
    "p1.introMe() # People의 introMe() 호출\n",
    "\n",
    "s1 = Student(17, \"Park\", 2)\n",
    "s1.introMe() # Student의 introMe() 호출\n",
    "\n"
   ]
  },
  {
   "cell_type": "code",
   "execution_count": 30,
   "metadata": {},
   "outputs": [
    {
     "name": "stdout",
     "output_type": "stream",
     "text": [
      "안녕하세요\n",
      "Hello\n"
     ]
    }
   ],
   "source": [
    "#다형성\n",
    "class Korean(object):\n",
    "  def greeting(self):\n",
    "    print(\"안녕하세요\")\n",
    "class American(object):\n",
    "  def greeting(self):\n",
    "    print(\"Hello\")\n",
    "def sayhello(people):\n",
    " people.greeting()\n",
    " \n",
    "kim = Korean()\n",
    "john = American()\n",
    "sayhello(kim) #동일한 함수인데 인자에 따라 출력이 다름(안녕하세요)\n",
    "sayhello(john) #john을 전달하면 Hello"
   ]
  },
  {
   "cell_type": "markdown",
   "metadata": {},
   "source": [
    "# 가시성\n",
    "파이썬은 C++/자바와 달리 접근 제어자(public, protected, private)가 엄격하게 적용되지않습니다. 하지만 관례적으로 다음과 같이 가시성을 표현\n",
    "\n",
    "• public: 이름 앞에 밑줄 없음 (예: value)\n",
    "    \n",
    "    → 어디서나 접근 가능\n",
    "• protected: 이름 앞에 밑줄 1개 (예: _value)\n",
    "\n",
    "    → 하위 클래스에서 접근 권장, 외부에서 직접 접근은 권장하지 않음\n",
    "• private: 이름 앞에 밑줄 2개 (예: __value)\n",
    "    → 클래스 내부에서만 접근, 이름이 맹글링(name mangling)되어 외부/하위 클래스에서 직접 접근 어렵게 만듦\n"
   ]
  },
  {
   "cell_type": "code",
   "execution_count": 31,
   "metadata": {},
   "outputs": [],
   "source": [
    "#가시성 예제\n",
    "class Base:\n",
    "    def __init__(self):\n",
    "        self.public_value = 1 # public\n",
    "        self._protected_value = 2 # protected\n",
    "        self.__private_value = 3 # private\n",
    "        \n",
    "class Child(Base):\n",
    "    def show(self):\n",
    "        print(self.public_value) # 가능\n",
    "        print(self._protected_value) # 가능\n",
    "        # print(self.__private_value) # 불가 (AttributeError)\n",
    "\n",
    "class Other:\n",
    "    def show(self, obj: Base):\n",
    "        print(obj.public_value) # 가능\n",
    "        print(obj._protected_value) # 가능 (하지만 권장되지 않음)\n",
    "        # print(obj.__private_value) # 불가 (AttributeError)"
   ]
  },
  {
   "cell_type": "markdown",
   "metadata": {},
   "source": [
    "# 추상 함수\n",
    "파이썬에서 추상 메서드(abstract method)\n",
    "\n",
    "• abc 모듈의 ABC(Abstract Base Class)와 @abstractmethod 데코레이터 (Java 의 annotation)를 사용해 정의\n",
    "\n",
    "• 추상 메서드는 반드시 하위 클래스에서 구현해야 하며, 직접 인스턴스화할 수 없음"
   ]
  },
  {
   "cell_type": "code",
   "execution_count": 32,
   "metadata": {},
   "outputs": [
    {
     "name": "stdout",
     "output_type": "stream",
     "text": [
      "멍멍\n"
     ]
    }
   ],
   "source": [
    "from abc import ABC, abstractmethod\n",
    "\n",
    "class Animal(ABC):\n",
    "    @abstractmethod\n",
    "    def sound(self):\n",
    "        pass\n",
    "class Dog(Animal):\n",
    "    def sound(self):\n",
    "        return \"멍멍\"\n",
    "    \n",
    "# a = Animal() # 에러: 추상 클래스는 인스턴스화 불가\n",
    "d = Dog()\n",
    "print(d.sound()) # \"멍멍\"\n",
    "\n",
    "#d = Animal(Dags)\n",
    "#a.sound()"
   ]
  },
  {
   "cell_type": "markdown",
   "metadata": {},
   "source": [
    "# 정적 멤버\n",
    "파이썬에서 정적 메서드\n",
    "\n",
    "• 파이썬에서 static member(정적 멤버, 클래스 변수)는 클래스 전체에서 공유되는 변수\n",
    "\n",
    "• 클래스 변수, 클래스 메소드라고 함\n",
    "\n",
    "• 메서드의 경우 @staticmethod 데코레이터를 사용해 정적 메서드를 정의\n",
    "\n",
    "• 정적 변수는 클래스 안에 self 가 아닌 일반 변수로 선언하고 클래스.변수 형태로 접근"
   ]
  },
  {
   "cell_type": "code",
   "execution_count": 44,
   "metadata": {},
   "outputs": [
    {
     "name": "stdout",
     "output_type": "stream",
     "text": [
      "1\n",
      "1\n",
      "2\n"
     ]
    }
   ],
   "source": [
    "# 정적 멤버 예제(오류가 나 수정함)\n",
    "class Counter:\n",
    "    count = 0  # 클래스 변수\n",
    "\n",
    "    def __init__(self):\n",
    "        self._object_counter = 1  # 인스턴스 변수 (private 아님)\n",
    "\n",
    "    @staticmethod\n",
    "    def increment_class():\n",
    "        Counter.count += 1\n",
    "\n",
    "    def increment_object(self):\n",
    "        self._object_counter += 1\n",
    "\n",
    "\n",
    "# 실행\n",
    "Counter.increment_class()\n",
    "print(Counter.count)  # 1\n",
    "\n",
    "c = Counter()\n",
    "print(c._object_counter)  # 1\n",
    "c.increment_object()\n",
    "print(c._object_counter)  # 2\n"
   ]
  },
  {
   "cell_type": "markdown",
   "metadata": {},
   "source": [
    "# Dunder methods\n",
    "Dunder\n",
    "    • Double Underlines 의 약자\n",
    "\n",
    "    • 파이썬에서는 Underline은 특별한 의미로 사용할 때가 많음\n",
    "    \n",
    "    • __XXX__ 메소드는 자동으로 호출되는 경우가 많음\n",
    "    \n",
    "    • 이러한 메소드를 재정의 하여 사용자 코드를 수행하도록 할 수 있음\n",
    "    \n",
    "❖ Dunder Methods 예 : dir(object)\n",
    "    \n",
    "    • __init__(self,…) : 클래스 생성함수, 객체 만들어질 때 자동 실행\n",
    "    \n",
    "    • __str__(self) : 클래스 객체를 문자열로 형병변환 할 때 자동 실행\n",
    "    \n",
    "    • __eq__(self,other) : 이 객체와 다른 객체를 같은지 여부\n",
    "    \n",
    "    • __gt__(self,other) : 이 객체가 다른 객체보다 큰지 여부\n",
    "\n",
    "❖ dir(object)\n",
    "\n",
    "dir(object)\n",
    "\n",
    "['__class__', '__delattr__', '__dir__', '__doc__', '__eq__', '__format__', '__ge__', '__getattribute__',\n",
    "'__getstate__', '__gt__', '__hash__', '__init__', '__init_subclass__', '__le__', '__lt__', '__ne__', '__new__',\n",
    "'__reduce__', '__reduce_ex__', '__repr__', '__setattr__', '__sizeof__', '__str__', '__subclasshook__']    "
   ]
  },
  {
   "cell_type": "code",
   "execution_count": 47,
   "metadata": {},
   "outputs": [
    {
     "name": "stdout",
     "output_type": "stream",
     "text": [
      "Student(name=Alice, age=20)\n",
      "Student(name=Bob, age=22)\n",
      "False\n",
      "True\n",
      "Student Alice is being deleted\n"
     ]
    }
   ],
   "source": [
    "class Student:\n",
    "    def __init__(self, name, age):\n",
    "        self.name = name\n",
    "        self.age = age\n",
    "    def __str__(self):\n",
    "        return f\"Student(name={self.name}, age={self.age})\"\n",
    "    def __eq__(self, other):\n",
    "        if isinstance(other, Student):\n",
    "            return self.name == other.name and self.age == other.age\n",
    "            return False\n",
    "    def __del__(self):\n",
    "        print(f\"Student {self.name} is being deleted\")\n",
    "\n",
    "if __name__ == \"__main__\":\n",
    "    student1 = Student(\"Alice\", 20)\n",
    "    student2 = Student(\"Bob\", 22)\n",
    "    student3 = Student(\"Alice\", 20)\n",
    "\n",
    "    print(student1) # Calls __str__\n",
    "    print(student2) # Calls __str__\n",
    "\n",
    "    print(student1 == student2) # Calls __eq__\n",
    "    print(student1 == student3) # Calls __eq__\n",
    "    \n",
    "    del student1 # Calls __del__"
   ]
  },
  {
   "cell_type": "markdown",
   "metadata": {},
   "source": [
    "# 파이썬 데코레이터\n",
    "파이썬 데코레이터(decorator)는 함수나 클래스의 동작을 수정하거나 확장할 때 사용하는 문법\n",
    "\n",
    "    • 함수(또는 메서드) 정의 위에 @데코레이터이름 형태로 사용\n",
    "\n",
    "    • 해당 함수가 호출될 때 데코레이터 함수 내에서 해당 함수가 실행\n",
    "    \n",
    "    • 데코레이터 함수의 정의는 다음 형식을 따라 wrapper 이름의 멤버 메소드를 정의"
   ]
  },
  {
   "cell_type": "code",
   "execution_count": 42,
   "metadata": {},
   "outputs": [
    {
     "name": "stdout",
     "output_type": "stream",
     "text": [
      "=== 예제 1: 기본 데코레이터 ===\n",
      "함수 실행전\n",
      "Hello, World!\n",
      "함수 실행후\n"
     ]
    }
   ],
   "source": [
    "#파이썬 데코레이터\n",
    "def simple_decorator(func):\n",
    "    def wrapper():\n",
    "        print(\"함수 실행전\")\n",
    "        result= func()\n",
    "        print(\"함수 실행후\")\n",
    "        return result\n",
    "    return wrapper\n",
    "\n",
    "@simple_decorator\n",
    "def say_hello():\n",
    "    print(\"Hello, World!\")\n",
    "\n",
    "if __name__ == \"__main__\":\n",
    "    print(\"=== 예제 1: 기본 데코레이터 ===\")\n",
    "    say_hello()\n",
    "# 함수 실행전\n",
    "# Hello, World!\n",
    "# 함수 실행후"
   ]
  },
  {
   "cell_type": "markdown",
   "metadata": {},
   "source": [
    "# 기존 함수를 확장2\n",
    "이미 작성된 함수의 기능을 확장할 때 2가지 방법\n",
    "\n",
    "• 1. 함수 재할당\n",
    "    - 장식이 된 함수명을 기존 함수명으로 그대로 사용하게 하고 싶을 때 : 기존 클라이언트 코드 변경 없이\n",
    "\n",
    "    - 원본 함수명 = decorator(원본 함수명)\n",
    "\n",
    "• 2. 다른 함수명\n",
    "    \n",
    "    - 장식이 된 함수명을 새로운 함수명으로 명명하여 사용해도 좋을 때 : 새롭게 클라이언트 함수를 짤 때\n",
    "    \n",
    "    - 신규 함수명 = decorator(원본 함수명)"
   ]
  },
  {
   "cell_type": "code",
   "execution_count": 46,
   "metadata": {},
   "outputs": [
    {
     "name": "stdout",
     "output_type": "stream",
     "text": [
      "함수 실행 전\n",
      "Hello, World!\n",
      "함수 실행 후\n",
      "함수 실행 전\n",
      "Hello, World!\n",
      "함수 실행 후\n"
     ]
    }
   ],
   "source": [
    "# 파이썬 데코레이터 예제 2(오류가 있어 약간 수정함)\n",
    "def say_hello():\n",
    "    print(\"Hello, World!\")\n",
    "\n",
    "def simple_decorator(func):\n",
    "    def wrapper():\n",
    "        print(\"함수 실행 전\")\n",
    "        result = func()\n",
    "        print(\"함수 실행 후\")\n",
    "        return result\n",
    "    return wrapper\n",
    "\n",
    "\n",
    "# 원본 함수 백업\n",
    "original_hello = say_hello  \n",
    "\n",
    "# 1. 함수 재할당\n",
    "say_hello = simple_decorator(original_hello)\n",
    "\n",
    "# 2. 다른 함수명으로도 사용 가능\n",
    "decorated_say_hello = simple_decorator(original_hello)\n",
    "\n",
    "\n",
    "if __name__ == \"__main__\":\n",
    "    say_hello()\n",
    "    decorated_say_hello()\n"
   ]
  },
  {
   "cell_type": "code",
   "execution_count": null,
   "metadata": {},
   "outputs": [],
   "source": []
  }
 ],
 "metadata": {
  "kernelspec": {
   "display_name": "Python 3",
   "language": "python",
   "name": "python3"
  },
  "language_info": {
   "codemirror_mode": {
    "name": "ipython",
    "version": 3
   },
   "file_extension": ".py",
   "mimetype": "text/x-python",
   "name": "python",
   "nbconvert_exporter": "python",
   "pygments_lexer": "ipython3",
   "version": "3.13.7"
  }
 },
 "nbformat": 4,
 "nbformat_minor": 2
}
