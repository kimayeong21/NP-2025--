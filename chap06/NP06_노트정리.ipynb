{
 "cells": [
  {
   "cell_type": "markdown",
   "metadata": {},
   "source": [
    "## 6장 노트정리\n",
    "\n",
    "이파일은 6장 학습하면서 실행한 내용을 정리한 것이다.\n",
    "\n",
    "날짜 : 2025.09.23\n",
    "\n",
    "저자: 김아영 학번: 202311394"
   ]
  },
  {
   "cell_type": "markdown",
   "metadata": {},
   "source": [
    "# 클래스 정의\n",
    "class 클래스이름(부모 클래스) : class 키워드로 정의\n",
    "\n",
    "   클래스 몸체\n",
    "\n",
    "클래스는 class 키워드로 정의된다. 부모 클래스는 없으면 생략\n",
    "\n",
    "클래스 몸체는 변수와 메소드로 구성\n"
   ]
  },
  {
   "cell_type": "markdown",
   "metadata": {},
   "source": [
    "# 클래스 객체\n",
    "클래스를 인스턴스화(instantiation)하여 만들어진 것을 객체(object)라 한다\n",
    "\n",
    "객체는 클래스의 변수와 메소드에 접근할 수 있다"
   ]
  },
  {
   "cell_type": "code",
   "execution_count": 2,
   "metadata": {},
   "outputs": [
    {
     "name": "stdout",
     "output_type": "stream",
     "text": [
      "홍길동\n"
     ]
    }
   ],
   "source": [
    "# 클래스 객체\n",
    "class Test: #클래스 정의\n",
    " name = \"홍길동\" #클래스 속성\n",
    "t = Test() #객체 생성\n",
    "print(t.name) #객체에서 클래스 속성 접근\n"
   ]
  },
  {
   "cell_type": "code",
   "execution_count": 5,
   "metadata": {},
   "outputs": [
    {
     "name": "stdout",
     "output_type": "stream",
     "text": [
      "멍멍\n"
     ]
    }
   ],
   "source": [
    "from abc import ABC, abstractmethod\n",
    "\n",
    "class Animal(ABC):\n",
    "    @abstractmethod\n",
    "    def sound(self):\n",
    "        pass\n",
    "class Dog(Animal):\n",
    "    def sound(self):\n",
    "        return \"멍멍\"\n",
    "    \n",
    "# a = Animal() # 에러: 추상 클래스는 인스턴스화 불가\n",
    "d = Dog()\n",
    "print(d.sound()) # \"멍멍\"\n",
    "\n",
    "#d = Animal(Dags)\n",
    "#a.sound()"
   ]
  },
  {
   "cell_type": "code",
   "execution_count": null,
   "metadata": {},
   "outputs": [],
   "source": []
  }
 ],
 "metadata": {
  "kernelspec": {
   "display_name": "Python 3",
   "language": "python",
   "name": "python3"
  },
  "language_info": {
   "codemirror_mode": {
    "name": "ipython",
    "version": 3
   },
   "file_extension": ".py",
   "mimetype": "text/x-python",
   "name": "python",
   "nbconvert_exporter": "python",
   "pygments_lexer": "ipython3",
   "version": "3.13.7"
  }
 },
 "nbformat": 4,
 "nbformat_minor": 2
}
