{
 "cells": [
  {
   "cell_type": "markdown",
   "metadata": {},
   "source": [
    "## 6장 노트정리\n",
    "\n",
    "이파일은 6장 학습하면서 연습문제를 정리한 것이다.\n",
    "\n",
    "날짜 : 2025.09.24\n",
    "\n",
    "저자: 김아영 학번: 202311394"
   ]
  },
  {
   "cell_type": "code",
   "execution_count": 3,
   "metadata": {},
   "outputs": [
    {
     "name": "stdout",
     "output_type": "stream",
     "text": [
      "저축 후 총액: 1000\n",
      "인출 후 총액: 800\n",
      "최종 총액: 800\n"
     ]
    }
   ],
   "source": [
    "# 연습문제 6-3 Moneybox 클래스 작성하기\n",
    "class Moneybox:\n",
    "    def __init__(self):\n",
    "        self.total = 0\n",
    "\n",
    "    def deposit(self, money):\n",
    "        self.total += money\n",
    "        print(\"저축 후 총액:\", self.total)\n",
    "\n",
    "    def extract(self, money):\n",
    "        if money <= self.total:\n",
    "            self.total -= money\n",
    "            print(\"인출 후 총액:\", self.total)\n",
    "        else:\n",
    "            print(\"잔액 부족\")\n",
    "\n",
    "    def get_total(self):\n",
    "        return self.total\n",
    "\n",
    "\n",
    "# 실행 예시\n",
    "my_money = Moneybox()\n",
    "my_money.deposit(1000)\n",
    "my_money.extract(200)\n",
    "print(\"최종 총액:\", my_money.get_total())\n"
   ]
  },
  {
   "cell_type": "code",
   "execution_count": null,
   "metadata": {},
   "outputs": [
    {
     "name": "stdout",
     "output_type": "stream",
     "text": [
      "비밀번호 변경 완료\n",
      "비밀번호 변경 완료\n",
      "현재 비밀번호: abcd\n",
      "비밀번호 확인: True\n"
     ]
    }
   ],
   "source": [
    "# 연습문제 6-4 password_manager 클래스\n",
    "class Password_manager:\n",
    "    def __init__(self):\n",
    "        self.old_passwords = []\n",
    "\n",
    "    def get_password(self):\n",
    "        return self.old_passwords[-1] if self.old_passwords else None\n",
    "\n",
    "    def set_password(self, new_pass):\n",
    "        if new_pass not in self.old_passwords:\n",
    "            self.old_passwords.append(new_pass)\n",
    "            print(\"비밀번호 변경 완료\")\n",
    "        else:\n",
    "            print(\"이미 사용한 비밀번호\")\n",
    "\n",
    "    def is_correct(self, password):\n",
    "        return password == self.get_password()\n",
    "\n",
    "\n",
    "# 실행 예시\n",
    "pm = Password_manager()\n",
    "pm.set_password(\"1234\")\n",
    "pm.set_password(\"abcd\")\n",
    "print(\"현재 비밀번호:\", pm.get_password())\n",
    "print(\"비밀번호 확인:\", pm.is_correct(\"abcd\"))\n"
   ]
  },
  {
   "cell_type": "code",
   "execution_count": 4,
   "metadata": {},
   "outputs": [
    {
     "name": "stdout",
     "output_type": "stream",
     "text": [
      "40개 구매 가격: 38000.0\n",
      "구매 후 재고: 9960\n"
     ]
    }
   ],
   "source": [
    "# 연습문제 6-5 Account 클래스 작성하기\n",
    "class Articles:\n",
    "    def __init__(self, name, stock, price):\n",
    "        self.name = name\n",
    "        self.stock = stock\n",
    "        self.price = price\n",
    "\n",
    "    def offer_price(self, quantity):\n",
    "        if quantity <= 10:\n",
    "            return self.price * quantity\n",
    "        elif quantity <= 50:\n",
    "            return self.price * quantity * 0.95  # 5% 할인\n",
    "        else:\n",
    "            return self.price * quantity * 0.90  # 10% 할인\n",
    "\n",
    "    def purchase(self, quantity):\n",
    "        if quantity <= self.stock:\n",
    "            total_price = self.offer_price(quantity)\n",
    "            self.stock -= quantity\n",
    "            return total_price\n",
    "        else:\n",
    "            print(\"재고 부족\")\n",
    "            return None\n",
    "\n",
    "\n",
    "# 실행 예시\n",
    "mask = Articles(\"mask\", 10000, 1000)\n",
    "price = mask.purchase(40)\n",
    "print(\"40개 구매 가격:\", price)\n",
    "print(\"구매 후 재고:\", mask.stock)\n"
   ]
  },
  {
   "cell_type": "code",
   "execution_count": 5,
   "metadata": {},
   "outputs": [
    {
     "name": "stdout",
     "output_type": "stream",
     "text": [
      "이름: 홍길동, 학번: 20150001, 학과: 로봇공학과\n",
      "3학년입니다\n"
     ]
    }
   ],
   "source": [
    "#연습문제 6-6 Student 클래스 작성하기\n",
    "class Student:\n",
    "    def __init__(self, name, id, dept):\n",
    "        self.name = name\n",
    "        self.id = id\n",
    "        self.dept = dept\n",
    "\n",
    "    def grade(self):\n",
    "        year = int(str(self.id)[:4])  # 학번 앞 4자리\n",
    "        if year < 2018:\n",
    "            print(\"3학년입니다\")\n",
    "        else:\n",
    "            print(\"3학년이 아닙니다\")\n",
    "\n",
    "\n",
    "# 실행 예시\n",
    "man = Student(name=\"홍길동\", id=20150001, dept=\"로봇공학과\")\n",
    "print(\"이름: {}, 학번: {}, 학과: {}\".format(man.name, man.id, man.dept))\n",
    "man.grade()\n"
   ]
  },
  {
   "cell_type": "code",
   "execution_count": 6,
   "metadata": {},
   "outputs": [
    {
     "name": "stdout",
     "output_type": "stream",
     "text": [
      "동양\n",
      "65\n",
      "ID: 2019\n"
     ]
    }
   ],
   "source": [
    "#연습문제 6-7 Employee 클래스 작성하기\n",
    "class Person:\n",
    "    def __init__(self, name, age):\n",
    "        self.name = name\n",
    "        self.age = age\n",
    "\n",
    "    def getName(self):\n",
    "        print(self.name)\n",
    "\n",
    "    def getAge(self):\n",
    "        print(self.age)\n",
    "\n",
    "\n",
    "class Employee(Person):\n",
    "    def __init__(self, name, age, employeeID):\n",
    "        super().__init__(name, age)  # Person 클래스 초기화\n",
    "        self.employeeID = employeeID\n",
    "\n",
    "    def getID(self):\n",
    "        return self.employeeID\n",
    "\n",
    "\n",
    "# 실행 예시\n",
    "emp = Employee(\"동양\", 65, 2019)\n",
    "emp.getName()\n",
    "emp.getAge()\n",
    "print(\"ID:\", emp.getID())\n"
   ]
  },
  {
   "cell_type": "code",
   "execution_count": 7,
   "metadata": {},
   "outputs": [
    {
     "name": "stdout",
     "output_type": "stream",
     "text": [
      "이름: 홍길동 ID: 1001 나이: 25\n",
      "이름: 이몽룡 ID: 1002 나이: 30\n"
     ]
    }
   ],
   "source": [
    "# 연습문제 6-8 Person / Employee 클래스 (자동 ID 부여)\n",
    "class Person:\n",
    "    _count = 1000  # 클래스 변수 (ID 시작값 1001부터)\n",
    "\n",
    "    def __init__(self, name, age):\n",
    "        Person._count += 1\n",
    "        self.__id = Person._count  # 자동 ID 부여\n",
    "        self.name = name\n",
    "        self.age = age\n",
    "\n",
    "    def getId(self):\n",
    "        return self.__id\n",
    "\n",
    "    def getAge(self):\n",
    "        return self.age\n",
    "\n",
    "    def getName(self):\n",
    "        return self.name\n",
    "\n",
    "\n",
    "class Employee(Person):\n",
    "    def __init__(self, name, age):\n",
    "        super().__init__(name, age)\n",
    "\n",
    "\n",
    "# 실행 예시\n",
    "if __name__ == \"__main__\":\n",
    "    e1 = Employee(\"홍길동\", 25)\n",
    "    e2 = Employee(\"이몽룡\", 30)\n",
    "\n",
    "    print(\"이름:\", e1.getName(), \"ID:\", e1.getId(), \"나이:\", e1.getAge())\n",
    "    print(\"이름:\", e2.getName(), \"ID:\", e2.getId(), \"나이:\", e2.getAge())\n"
   ]
  },
  {
   "cell_type": "code",
   "execution_count": 8,
   "metadata": {},
   "outputs": [
    {
     "name": "stdout",
     "output_type": "stream",
     "text": [
      "True\n"
     ]
    }
   ],
   "source": [
    "# 연습문제 6-9 \n",
    "# 파이썬으로 싱그론 패턴 구현\n",
    "class Singleton:\n",
    "    _instance = None\n",
    "\n",
    "    def __new__(cls, *args, **kwargs):\n",
    "        if cls._instance is None:\n",
    "            cls._instance = super().__new__(cls)\n",
    "        return cls._instance\n",
    "\n",
    "\n",
    "# 실행 예시\n",
    "s1 = Singleton()\n",
    "s2 = Singleton()\n",
    "print(s1 is s2)  # True → 같은 객체\n"
   ]
  },
  {
   "cell_type": "code",
   "execution_count": 9,
   "metadata": {},
   "outputs": [
    {
     "name": "stdout",
     "output_type": "stream",
     "text": [
      "스레드 0 실행 중\n",
      "스레드 1 실행 중\n",
      "스레드 2 실행 중\n"
     ]
    }
   ],
   "source": [
    "# 연습문제 6-9 \n",
    "# 파이썬에서 멀티스레드 구현 기법\n",
    "import threading\n",
    "\n",
    "def worker(num):\n",
    "    print(f\"스레드 {num} 실행 중\")\n",
    "\n",
    "threads = []\n",
    "for i in range(3):\n",
    "    t = threading.Thread(target=worker, args=(i,))\n",
    "    threads.append(t)\n",
    "    t.start()\n",
    "\n",
    "for t in threads:\n",
    "    t.join()\n"
   ]
  },
  {
   "cell_type": "code",
   "execution_count": null,
   "metadata": {},
   "outputs": [
    {
     "name": "stdout",
     "output_type": "stream",
     "text": [
      "최종 잔액: 0\n"
     ]
    }
   ],
   "source": [
    "# 연습문제 6-9 \n",
    "# 멀티스레드에서 공유 변수 Critical Section 보호\n",
    "import threading\n",
    "\n",
    "balance = 0\n",
    "lock = threading.Lock()\n",
    "\n",
    "def deposit():\n",
    "    global balance\n",
    "    for _ in range(100000):\n",
    "        with lock:   # 임계 구역 보호\n",
    "            balance += 1\n",
    "\n",
    "def withdraw():\n",
    "    global balance\n",
    "    for _ in range(100000):\n",
    "        with lock:\n",
    "            balance -= 1\n",
    "\n",
    "t1 = threading.Thread(target=deposit)\n",
    "t2 = threading.Thread(target=withdraw)\n",
    "\n",
    "t1.start()\n",
    "t2.start()\n",
    "t1.join()\n",
    "t2.join()\n",
    "\n",
    "print(\"최종 잔액:\", balance)\n"
   ]
  },
  {
   "cell_type": "code",
   "execution_count": 1,
   "metadata": {},
   "outputs": [
    {
     "name": "stdout",
     "output_type": "stream",
     "text": [
      "멍멍\n",
      "야옹\n",
      "멍멍\n",
      "야옹\n",
      "[<__main__.Dog object at 0x0000028457F6F890>, <__main__.Cat object at 0x00000284581A4050>, <__main__.Dog object at 0x00000284580F9F30>, <__main__.Cat object at 0x00000284580FA060>]\n",
      "멍멍이c → 멍멍\n",
      "바둑이a → 멍멍\n",
      "나비b → 야옹\n",
      "멍멍이c → 멍멍\n",
      "야옹이d → 야옹\n",
      "총 동물의 수: 7\n",
      "총 동물의 수: 5\n"
     ]
    }
   ],
   "source": [
    "# 6-10 추상 클래스 다루기\n",
    "from abc import ABC, abstractmethod\n",
    "\n",
    "class Animal(ABC):\n",
    "    _animal_count = 0  # 클래스 변수 (현재 동물 객체 수)\n",
    "\n",
    "    def __init__(self, name):\n",
    "        self.name = name\n",
    "        Animal._animal_count += 1   # 객체 수 증가\n",
    "\n",
    "    def __del__(self):\n",
    "        Animal._animal_count -= 1   # 객체 삭제 시 감소\n",
    "\n",
    "    @abstractmethod\n",
    "    def sound(self):\n",
    "        pass\n",
    "\n",
    "    @staticmethod\n",
    "    def get_animal_count():\n",
    "        return Animal._animal_count\n",
    "\n",
    "\n",
    "class Dog(Animal):\n",
    "    def sound(self):\n",
    "        return \"멍멍\"\n",
    "\n",
    "\n",
    "class Cat(Animal):\n",
    "    def sound(self):\n",
    "        return \"야옹\"\n",
    "\n",
    "\n",
    "# ✅ 보조 함수: 단일 객체 울음소리 출력\n",
    "def animal_sound(animal: Animal):\n",
    "    print(f\"{animal.name} → {animal.sound()}\")\n",
    "\n",
    "# ✅ 보조 함수: 여러 객체 울음소리 출력\n",
    "def animal_sounds(animals):\n",
    "    for a in animals:\n",
    "        print(f\"{a.name} → {a.sound()}\")\n",
    "\n",
    "\n",
    "# ================== 테스트 코드 ==================\n",
    "if __name__ == \"__main__\":\n",
    "    dog = Dog(\"바둑이\")\n",
    "    print(dog.sound())   # 멍멍\n",
    "\n",
    "    cat = Cat(\"야옹이\")\n",
    "    print(cat.sound())   # 야옹\n",
    "\n",
    "    any: Animal = Dog(\"바둑이2\")\n",
    "    print(any.sound())   # 멍멍\n",
    "    any = Cat(\"야옹이2\")\n",
    "    print(any.sound())   # 야옹\n",
    "\n",
    "    # 리스트 생성\n",
    "    alist: list[Animal] = [\n",
    "        Dog(\"바둑이a\"), \n",
    "        Cat(\"나비b\"), \n",
    "        Dog(\"멍멍이c\"), \n",
    "        Cat(\"야옹이d\")\n",
    "    ]\n",
    "    print(alist)\n",
    "\n",
    "    # 리스트 출력\n",
    "    animal_sound(alist[2])\n",
    "    animal_sounds(alist)\n",
    "\n",
    "    # 현재 동물 객체 수 확인\n",
    "    print(f\"총 동물의 수: {Animal.get_animal_count()}\")  # 예: 8\n",
    "\n",
    "    # 객체 삭제\n",
    "    del dog\n",
    "    del cat\n",
    "\n",
    "    print(f\"총 동물의 수: {Animal.get_animal_count()}\")  # 예: 6\n"
   ]
  },
  {
   "cell_type": "code",
   "execution_count": null,
   "metadata": {},
   "outputs": [],
   "source": []
  }
 ],
 "metadata": {
  "kernelspec": {
   "display_name": "Python 3",
   "language": "python",
   "name": "python3"
  },
  "language_info": {
   "codemirror_mode": {
    "name": "ipython",
    "version": 3
   },
   "file_extension": ".py",
   "mimetype": "text/x-python",
   "name": "python",
   "nbconvert_exporter": "python",
   "pygments_lexer": "ipython3",
   "version": "3.13.7"
  }
 },
 "nbformat": 4,
 "nbformat_minor": 2
}
